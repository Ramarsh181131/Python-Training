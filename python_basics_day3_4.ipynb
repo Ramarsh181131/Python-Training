{
  "nbformat": 4,
  "nbformat_minor": 0,
  "metadata": {
    "colab": {
      "provenance": []
    },
    "kernelspec": {
      "name": "python3",
      "display_name": "Python 3"
    },
    "language_info": {
      "name": "python"
    }
  },
  "cells": [
    {
      "cell_type": "code",
      "source": [
        "a = 10\n",
        "print(a)\n",
        "print(\"a=\",id(a))\n",
        "\n",
        "b = 10\n",
        "print(b)\n",
        "print(\"b=\",id(b))\n",
        "\n",
        "c = 30\n",
        "print(c)\n",
        "print(\"c=\",id(b))\n",
        "\n",
        "# dynamic\n",
        "\n",
        "a = 3.14\n",
        "print(a)\n",
        "print(\"a=\",id(a))"
      ],
      "metadata": {
        "id": "15hk8zXfzMn4",
        "outputId": "e70ab80e-dea5-4759-adf7-8158418449b9",
        "colab": {
          "base_uri": "https://localhost:8080/"
        }
      },
      "execution_count": 2,
      "outputs": [
        {
          "output_type": "stream",
          "name": "stdout",
          "text": [
            "10\n",
            "a= 10751144\n",
            "10\n",
            "b= 10751144\n",
            "30\n",
            "c= 10751144\n",
            "3.14\n",
            "a= 139769389685488\n"
          ]
        }
      ]
    },
    {
      "cell_type": "code",
      "source": [
        "# creating multiple variables\n",
        "\n",
        "a,b,c = 10, 3.14, \"NTT\"\n",
        "print(a,b,c)"
      ],
      "metadata": {
        "id": "8FhznQy912Fr",
        "outputId": "4cd2bb88-0a13-4f14-9c9c-c998306dd883",
        "colab": {
          "base_uri": "https://localhost:8080/"
        }
      },
      "execution_count": 3,
      "outputs": [
        {
          "output_type": "stream",
          "name": "stdout",
          "text": [
            "10 3.14 NTT\n"
          ]
        }
      ]
    },
    {
      "cell_type": "code",
      "source": [
        "# assign single values to multiple variables\n",
        "a=b=c = 100\n",
        "print(a,b,c)"
      ],
      "metadata": {
        "id": "FFtLU6pg2J7z",
        "outputId": "8bd1e810-e60a-483e-e007-c490b555d627",
        "colab": {
          "base_uri": "https://localhost:8080/"
        }
      },
      "execution_count": 4,
      "outputs": [
        {
          "output_type": "stream",
          "name": "stdout",
          "text": [
            "100 100 100\n"
          ]
        }
      ]
    },
    {
      "cell_type": "code",
      "source": [
        "# variable annotation\n",
        "a: int = 10\n",
        "print(a)\n",
        "print(__annotations__['a'])\n",
        "\n",
        "b: float = 3.14\n",
        "print(b)\n",
        "print(__annotations__['b'])\n",
        "\n",
        "c: str = \"NTT\"\n",
        "print(c)\n",
        "print(__annotations__['c'])"
      ],
      "metadata": {
        "id": "ldsQcO642ZsT",
        "outputId": "e447d830-076e-4419-9fb0-2238ec939bba",
        "colab": {
          "base_uri": "https://localhost:8080/"
        }
      },
      "execution_count": 5,
      "outputs": [
        {
          "output_type": "stream",
          "name": "stdout",
          "text": [
            "10\n",
            "<class 'int'>\n",
            "3.14\n",
            "<class 'float'>\n",
            "NTT\n",
            "<class 'str'>\n"
          ]
        }
      ]
    },
    {
      "cell_type": "code",
      "source": [
        "import keyword\n",
        "print(keyword.kwlist)\n",
        "print(len)"
      ],
      "metadata": {
        "id": "F1xV5gZx3VQ2",
        "outputId": "6f1f4fcc-a2d0-4bee-be60-6fe6f07c6192",
        "colab": {
          "base_uri": "https://localhost:8080/"
        }
      },
      "execution_count": 6,
      "outputs": [
        {
          "output_type": "stream",
          "name": "stdout",
          "text": [
            "['False', 'None', 'True', 'and', 'as', 'assert', 'async', 'await', 'break', 'class', 'continue', 'def', 'del', 'elif', 'else', 'except', 'finally', 'for', 'from', 'global', 'if', 'import', 'in', 'is', 'lambda', 'nonlocal', 'not', 'or', 'pass', 'raise', 'return', 'try', 'while', 'with', 'yield']\n"
          ]
        }
      ]
    },
    {
      "cell_type": "code",
      "source": [
        "# this section is for commenting"
      ],
      "metadata": {
        "id": "cQq9aZoA31Xs"
      },
      "execution_count": 8,
      "outputs": []
    },
    {
      "cell_type": "code",
      "source": [
        "# multiple comments\n",
        "\n",
        "print(\"multiple comments\")"
      ],
      "metadata": {
        "id": "lyZFtOWK4HB9",
        "outputId": "1bc9c9ec-24f4-4781-929c-3c481d5ba6ce",
        "colab": {
          "base_uri": "https://localhost:8080/"
        }
      },
      "execution_count": 9,
      "outputs": [
        {
          "output_type": "stream",
          "name": "stdout",
          "text": [
            "multiple comments\n"
          ]
        }
      ]
    },
    {
      "cell_type": "code",
      "source": [
        "# string\n",
        "\n",
        "s= \"code yug\"\n",
        "print(s[0:3:1])\n",
        "print(s[2:4])\n",
        "print(s[0:5:2])"
      ],
      "metadata": {
        "id": "7WF5cUncDXzn",
        "outputId": "89a1cd36-addc-4dda-97f8-4f6cf565665a",
        "colab": {
          "base_uri": "https://localhost:8080/"
        }
      },
      "execution_count": 12,
      "outputs": [
        {
          "output_type": "stream",
          "name": "stdout",
          "text": [
            "cod\n",
            "de\n",
            "cd \n"
          ]
        }
      ]
    },
    {
      "cell_type": "code",
      "source": [
        "# string\n",
        "\n",
        "s= \"Hello World\"\n",
        "print(s[:5])\n"
      ],
      "metadata": {
        "id": "HVuZ6YP9M7eA",
        "outputId": "b3f3ade8-1d51-4418-b05e-153865fe6efe",
        "colab": {
          "base_uri": "https://localhost:8080/"
        }
      },
      "execution_count": 14,
      "outputs": [
        {
          "output_type": "stream",
          "name": "stdout",
          "text": [
            "Hello\n"
          ]
        }
      ]
    },
    {
      "cell_type": "code",
      "source": [
        "# string\n",
        "\n",
        "s= \"Hello, World!\"\n",
        "print(s[-6:-1])\n"
      ],
      "metadata": {
        "id": "O_Hv5AvONez9",
        "outputId": "6489f9d1-79b7-4e49-8d3c-64429b4480bb",
        "colab": {
          "base_uri": "https://localhost:8080/"
        }
      },
      "execution_count": 17,
      "outputs": [
        {
          "output_type": "stream",
          "name": "stdout",
          "text": [
            "World\n"
          ]
        }
      ]
    },
    {
      "cell_type": "code",
      "source": [],
      "metadata": {
        "id": "XWar1HgJNzY3"
      },
      "execution_count": null,
      "outputs": []
    }
  ]
}