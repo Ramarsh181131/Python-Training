{
  "nbformat": 4,
  "nbformat_minor": 0,
  "metadata": {
    "colab": {
      "provenance": [],
      "include_colab_link": true
    },
    "kernelspec": {
      "name": "python3",
      "display_name": "Python 3"
    },
    "language_info": {
      "name": "python"
    }
  },
  "cells": [
    {
      "cell_type": "markdown",
      "metadata": {
        "id": "view-in-github",
        "colab_type": "text"
      },
      "source": [
        "<a href=\"https://colab.research.google.com/github/Ramarsh181131/Python-Training/blob/main/python_basics_day1%204.ipynb\" target=\"_parent\"><img src=\"https://colab.research.google.com/assets/colab-badge.svg\" alt=\"Open In Colab\"/></a>"
      ]
    },
    {
      "cell_type": "code",
      "execution_count": null,
      "metadata": {
        "colab": {
          "base_uri": "https://localhost:8080/"
        },
        "id": "fooBKl8FmcO4",
        "outputId": "3953ec2f-08dc-4590-ae74-2df2a4a8ea76"
      },
      "outputs": [
        {
          "output_type": "stream",
          "name": "stdout",
          "text": [
            "welcome to Python world\n"
          ]
        }
      ],
      "source": [
        "print(\"welcome to Python world\")"
      ]
    },
    {
      "cell_type": "code",
      "source": [
        "greet()"
      ],
      "metadata": {
        "id": "ISvgu934a9pQ",
        "outputId": "39456cc4-bc48-4556-97ff-4ca58a9e6214",
        "colab": {
          "base_uri": "https://localhost:8080/"
        }
      },
      "execution_count": 32,
      "outputs": [
        {
          "output_type": "stream",
          "name": "stdout",
          "text": [
            "Hello\n",
            "How are you\n",
            "Bye\n"
          ]
        }
      ]
    },
    {
      "cell_type": "code",
      "source": [
        "2+3"
      ],
      "metadata": {
        "colab": {
          "base_uri": "https://localhost:8080/"
        },
        "id": "456iibnZml4b",
        "outputId": "98005d39-dad6-427f-90f5-a6fad527d64b"
      },
      "execution_count": null,
      "outputs": [
        {
          "output_type": "execute_result",
          "data": {
            "text/plain": [
              "5"
            ]
          },
          "metadata": {},
          "execution_count": 2
        }
      ]
    },
    {
      "cell_type": "markdown",
      "source": [
        "**Variable**"
      ],
      "metadata": {
        "id": "_-qT58MTIm21"
      }
    },
    {
      "cell_type": "code",
      "source": [
        "x=5 #store 5 in x\n",
        "y=3 #store 3 in y\n",
        "z = 2 #store 2 in z\n",
        "less = x-y-z #less the values inside the variable and store the result in less\n",
        "print(less)\n",
        "s1 = \"Hello Harsh\"\n",
        "print(s1)\n"
      ],
      "metadata": {
        "colab": {
          "base_uri": "https://localhost:8080/"
        },
        "id": "6lMKLkIWIOUK",
        "outputId": "daafe5c0-4f84-4485-f4bb-322bad39ec13"
      },
      "execution_count": null,
      "outputs": [
        {
          "output_type": "stream",
          "name": "stdout",
          "text": [
            "0\n",
            "Hello Harsh\n"
          ]
        }
      ]
    },
    {
      "cell_type": "code",
      "source": [
        "#type() : give me datatype of a variable\n",
        "print(type(x))\n",
        "print(type(y))\n",
        "print(type(s1))"
      ],
      "metadata": {
        "colab": {
          "base_uri": "https://localhost:8080/"
        },
        "id": "fU3FALNbK6OD",
        "outputId": "d37d1c16-b8f8-42bc-d0f5-8dbf865793ee"
      },
      "execution_count": null,
      "outputs": [
        {
          "output_type": "stream",
          "name": "stdout",
          "text": [
            "<class 'int'>\n",
            "<class 'int'>\n",
            "<class 'str'>\n"
          ]
        }
      ]
    },
    {
      "cell_type": "markdown",
      "source": [
        "**String**"
      ],
      "metadata": {
        "id": "PainckxgM6qd"
      }
    },
    {
      "cell_type": "code",
      "source": [
        "s1.upper()"
      ],
      "metadata": {
        "colab": {
          "base_uri": "https://localhost:8080/",
          "height": 35
        },
        "id": "dJRjb-plM97O",
        "outputId": "4adbdbc0-68db-43ee-cd6e-c92beabf2099"
      },
      "execution_count": null,
      "outputs": [
        {
          "output_type": "execute_result",
          "data": {
            "text/plain": [
              "'HELLO HARSH'"
            ],
            "application/vnd.google.colaboratory.intrinsic+json": {
              "type": "string"
            }
          },
          "metadata": {},
          "execution_count": 7
        }
      ]
    },
    {
      "cell_type": "code",
      "source": [
        "s1.lower()"
      ],
      "metadata": {
        "colab": {
          "base_uri": "https://localhost:8080/",
          "height": 35
        },
        "id": "z2cNzFcmPiRN",
        "outputId": "9e1a3c9f-82b2-4984-f806-bd5177629f5c"
      },
      "execution_count": null,
      "outputs": [
        {
          "output_type": "execute_result",
          "data": {
            "text/plain": [
              "'hello harsh'"
            ],
            "application/vnd.google.colaboratory.intrinsic+json": {
              "type": "string"
            }
          },
          "metadata": {},
          "execution_count": 9
        }
      ]
    },
    {
      "cell_type": "code",
      "source": [
        "s1.title()"
      ],
      "metadata": {
        "colab": {
          "base_uri": "https://localhost:8080/",
          "height": 35
        },
        "id": "V_qaqzMrPmYA",
        "outputId": "c69c011f-0ee3-4f30-d3a1-992df8574911"
      },
      "execution_count": null,
      "outputs": [
        {
          "output_type": "execute_result",
          "data": {
            "text/plain": [
              "'Hello Harsh'"
            ],
            "application/vnd.google.colaboratory.intrinsic+json": {
              "type": "string"
            }
          },
          "metadata": {},
          "execution_count": 10
        }
      ]
    },
    {
      "cell_type": "code",
      "source": [
        "#replacing\n",
        "\n",
        "#Russia : Serbia\n",
        "\n",
        "s2 = \"Russia\"\n",
        "\n",
        "s2.replace(\"Russ\",\"Serb\")"
      ],
      "metadata": {
        "colab": {
          "base_uri": "https://localhost:8080/",
          "height": 35
        },
        "id": "OpZuEPBuPs5o",
        "outputId": "44d2dbe9-4302-4db1-cf38-f89800f35402"
      },
      "execution_count": null,
      "outputs": [
        {
          "output_type": "execute_result",
          "data": {
            "text/plain": [
              "'Serbia'"
            ],
            "application/vnd.google.colaboratory.intrinsic+json": {
              "type": "string"
            }
          },
          "metadata": {},
          "execution_count": 11
        }
      ]
    },
    {
      "cell_type": "code",
      "source": [
        "s2"
      ],
      "metadata": {
        "colab": {
          "base_uri": "https://localhost:8080/",
          "height": 35
        },
        "id": "0HKljnQFQORF",
        "outputId": "b278bece-6a19-4f43-f23d-26f751dbf551"
      },
      "execution_count": null,
      "outputs": [
        {
          "output_type": "execute_result",
          "data": {
            "text/plain": [
              "'Russia'"
            ],
            "application/vnd.google.colaboratory.intrinsic+json": {
              "type": "string"
            }
          },
          "metadata": {},
          "execution_count": 12
        }
      ]
    },
    {
      "cell_type": "code",
      "source": [
        "s3 = \"Russia\"\n",
        "s3.replace(\"Russ\",\"Ind\")"
      ],
      "metadata": {
        "colab": {
          "base_uri": "https://localhost:8080/",
          "height": 35
        },
        "id": "IXhZ25fTR0qK",
        "outputId": "de3e43db-8f29-4169-b620-4e9c21460873"
      },
      "execution_count": null,
      "outputs": [
        {
          "output_type": "execute_result",
          "data": {
            "text/plain": [
              "'India'"
            ],
            "application/vnd.google.colaboratory.intrinsic+json": {
              "type": "string"
            }
          },
          "metadata": {},
          "execution_count": 13
        }
      ]
    },
    {
      "cell_type": "code",
      "source": [
        "s3 = s3.replace(\"Russ\",\"Ind\")\n",
        "\n",
        "print(s3)"
      ],
      "metadata": {
        "colab": {
          "base_uri": "https://localhost:8080/"
        },
        "id": "5HLRoWCnS0T5",
        "outputId": "31ebabed-05d1-420c-b4a3-73150567db21"
      },
      "execution_count": null,
      "outputs": [
        {
          "output_type": "stream",
          "name": "stdout",
          "text": [
            "India\n"
          ]
        }
      ]
    },
    {
      "cell_type": "code",
      "source": [
        "u1 = \"I\"\n",
        "u2 = \"have\"\n",
        "u3 = \"the Power\"\n",
        "u4 = u1+\" \"+u2+\" \"+u3\n",
        "print(u4)"
      ],
      "metadata": {
        "colab": {
          "base_uri": "https://localhost:8080/"
        },
        "id": "cnc14IwjT1fK",
        "outputId": "b0821b37-ecf1-479a-a2fc-05feb7714131"
      },
      "execution_count": null,
      "outputs": [
        {
          "output_type": "stream",
          "name": "stdout",
          "text": [
            "I have the Power\n"
          ]
        }
      ]
    },
    {
      "cell_type": "code",
      "source": [
        "5+3*10"
      ],
      "metadata": {
        "colab": {
          "base_uri": "https://localhost:8080/"
        },
        "id": "JOG-wCklXxlx",
        "outputId": "f81bd674-746b-41eb-8b75-3204e9c5facf"
      },
      "execution_count": null,
      "outputs": [
        {
          "output_type": "execute_result",
          "data": {
            "text/plain": [
              "35"
            ]
          },
          "metadata": {},
          "execution_count": 27
        }
      ]
    },
    {
      "cell_type": "code",
      "source": [
        "n=8\n",
        "if n>0:\n",
        "  #these gaps (indents) indicates that the lines of code belong to the body of if i.e if condition is T then these lines will be executed\n",
        "  print(\"The Number is Positive\")\n",
        "  print(\"Hello Harsh\")\n",
        "else:\n",
        "    #whetever we write beyond this it will for the else part\n",
        "    print(\"The Number is Negative\")\n",
        "    print(\"Tata Tata\")"
      ],
      "metadata": {
        "colab": {
          "base_uri": "https://localhost:8080/"
        },
        "id": "gumdDAz4X2bs",
        "outputId": "063a56bc-5a20-43d7-f02c-757ff83fe90b"
      },
      "execution_count": null,
      "outputs": [
        {
          "output_type": "stream",
          "name": "stdout",
          "text": [
            "The Number is Positive\n",
            "Hello Harsh\n"
          ]
        }
      ]
    },
    {
      "cell_type": "code",
      "source": [
        "# = : assignment operator\n",
        "# == : Comparing operator\n",
        "# comparing statement : >=,<=,>,<,==,!=\n",
        "n=-1\n",
        "if n>0:\n",
        "  print(\"+ve\")\n",
        "elif n==0:\n",
        "  print(\"zero\")\n",
        "else:\n",
        "  print(\"-ve\")"
      ],
      "metadata": {
        "colab": {
          "base_uri": "https://localhost:8080/"
        },
        "id": "fLuXw-pEhK63",
        "outputId": "b94fcc52-1bd8-4ec4-ceb0-11ca3226375e"
      },
      "execution_count": null,
      "outputs": [
        {
          "output_type": "stream",
          "name": "stdout",
          "text": [
            "-ve\n"
          ]
        }
      ]
    },
    {
      "cell_type": "code",
      "source": [
        "n1  = int(input(\"Enter the data\"))"
      ],
      "metadata": {
        "colab": {
          "base_uri": "https://localhost:8080/"
        },
        "id": "2WcF2CvNjCIu",
        "outputId": "f54046a5-f98d-45dc-bc02-90209a3d391e"
      },
      "execution_count": null,
      "outputs": [
        {
          "name": "stdout",
          "output_type": "stream",
          "text": [
            "Enter the data500\n"
          ]
        }
      ]
    },
    {
      "cell_type": "code",
      "source": [
        "n1 + 5"
      ],
      "metadata": {
        "colab": {
          "base_uri": "https://localhost:8080/"
        },
        "id": "zvEQgSimjTrQ",
        "outputId": "90f595c4-8999-4696-d043-953f02ce6e20"
      },
      "execution_count": null,
      "outputs": [
        {
          "output_type": "execute_result",
          "data": {
            "text/plain": [
              "505"
            ]
          },
          "metadata": {},
          "execution_count": 50
        }
      ]
    },
    {
      "cell_type": "code",
      "source": [
        "n= int(input(\"Enter the data\"))\n",
        "if n>0:\n",
        "  print(\"+ve\")\n",
        "elif n==0:\n",
        "  print(\"zero\")\n",
        "else:\n",
        "  print(\"-ve\")"
      ],
      "metadata": {
        "colab": {
          "base_uri": "https://localhost:8080/"
        },
        "id": "iAY_ZUbtkKqp",
        "outputId": "af6fc471-06ba-471c-e4bb-92e373250b9a"
      },
      "execution_count": null,
      "outputs": [
        {
          "output_type": "stream",
          "name": "stdout",
          "text": [
            "Enter the data13\n",
            "+ve\n"
          ]
        }
      ]
    },
    {
      "cell_type": "code",
      "source": [
        "#print all numbers from 1 to 10\n",
        "\n",
        "i = 1\n",
        "while i<=10:\n",
        "  print(f\"The Number is {i}\")\n",
        "  i = i+1"
      ],
      "metadata": {
        "id": "jHkCTrz8Phi1",
        "outputId": "9f494568-1dcf-4204-fd6e-e5f285fefa69",
        "colab": {
          "base_uri": "https://localhost:8080/"
        }
      },
      "execution_count": 4,
      "outputs": [
        {
          "output_type": "stream",
          "name": "stdout",
          "text": [
            "The Number is 1\n",
            "The Number is 2\n",
            "The Number is 3\n",
            "The Number is 4\n",
            "The Number is 5\n",
            "The Number is 6\n",
            "The Number is 7\n",
            "The Number is 8\n",
            "The Number is 9\n",
            "The Number is 10\n"
          ]
        }
      ]
    },
    {
      "cell_type": "code",
      "source": [
        "#range : gives us a range of values\n",
        "range(5)"
      ],
      "metadata": {
        "id": "Mb-uK_2bQU5W",
        "outputId": "794f49de-4996-48a7-cb91-a204b7925d54",
        "colab": {
          "base_uri": "https://localhost:8080/"
        }
      },
      "execution_count": 5,
      "outputs": [
        {
          "output_type": "execute_result",
          "data": {
            "text/plain": [
              "range(0, 5)"
            ]
          },
          "metadata": {},
          "execution_count": 5
        }
      ]
    },
    {
      "cell_type": "code",
      "source": [
        "#print hello five times\n",
        "\n",
        "for i in range(5):\n",
        "  print(\"Harsh\")"
      ],
      "metadata": {
        "id": "vY0t9QgOQhq-",
        "outputId": "f3f4ce91-c579-4251-b0ef-90013c24dc22",
        "colab": {
          "base_uri": "https://localhost:8080/"
        }
      },
      "execution_count": 8,
      "outputs": [
        {
          "output_type": "stream",
          "name": "stdout",
          "text": [
            "Harsh\n",
            "Harsh\n",
            "Harsh\n",
            "Harsh\n",
            "Harsh\n"
          ]
        }
      ]
    },
    {
      "cell_type": "code",
      "source": [
        "for i in range(1,11):\n",
        " print(i*5)"
      ],
      "metadata": {
        "id": "-_LF6x4qUUyG",
        "outputId": "a4f610cb-8197-44f8-dbb6-4e7e5841d015",
        "colab": {
          "base_uri": "https://localhost:8080/"
        }
      },
      "execution_count": 19,
      "outputs": [
        {
          "output_type": "stream",
          "name": "stdout",
          "text": [
            "5\n",
            "10\n",
            "15\n",
            "20\n",
            "25\n",
            "30\n",
            "35\n",
            "40\n",
            "45\n",
            "50\n"
          ]
        }
      ]
    },
    {
      "cell_type": "code",
      "source": [
        "#take 5 numbers as input and print it\n",
        "\n",
        "for i in range (1,5):\n",
        " i = int(input(\"Enter a number\"))\n",
        " print(f\"Number is {i}\")"
      ],
      "metadata": {
        "id": "5qinlG8dVEsq",
        "outputId": "aae0f51b-d076-4ee4-c048-a3db7ad93272",
        "colab": {
          "base_uri": "https://localhost:8080/"
        }
      },
      "execution_count": 27,
      "outputs": [
        {
          "output_type": "stream",
          "name": "stdout",
          "text": [
            "Enter a number1\n",
            "Number is 1\n",
            "Enter a number2\n",
            "Number is 2\n",
            "Enter a number3\n",
            "Number is 3\n",
            "Enter a number4\n",
            "Number is 4\n"
          ]
        }
      ]
    },
    {
      "cell_type": "code",
      "source": [
        "# function/methods : Def\n",
        "def greet():\n",
        " print(\"Hello\")\n",
        " print(\"How are you\")\n",
        " print(\"Bye\")"
      ],
      "metadata": {
        "id": "zERnJZw7aD6V"
      },
      "execution_count": 30,
      "outputs": []
    },
    {
      "cell_type": "code",
      "source": [
        "#calling\n",
        "greet()"
      ],
      "metadata": {
        "id": "BxfZD29maxzf",
        "outputId": "c5432785-0726-450a-e7d8-0980834782a7",
        "colab": {
          "base_uri": "https://localhost:8080/"
        }
      },
      "execution_count": 31,
      "outputs": [
        {
          "output_type": "stream",
          "name": "stdout",
          "text": [
            "Hello\n",
            "How are you\n",
            "Bye\n"
          ]
        }
      ]
    },
    {
      "cell_type": "code",
      "source": [
        "# creat a function to add 2 number\n",
        "\n",
        "def number():\n",
        "  p = int(input(\"Enter a number\"))\n",
        "  q = int(input(\"Enter a number\"))\n",
        "  print(f\"The sum is {p+q}\")"
      ],
      "metadata": {
        "id": "F8jRVCrHaxXx"
      },
      "execution_count": 45,
      "outputs": []
    },
    {
      "cell_type": "code",
      "source": [
        "number()"
      ],
      "metadata": {
        "id": "CsLwVR9xci2-",
        "outputId": "04c5131b-6e87-4b90-e089-18474c03a809",
        "colab": {
          "base_uri": "https://localhost:8080/"
        }
      },
      "execution_count": 48,
      "outputs": [
        {
          "output_type": "stream",
          "name": "stdout",
          "text": [
            "Enter a number1\n",
            "Enter a number2\n",
            "The sum is 3\n"
          ]
        }
      ]
    },
    {
      "cell_type": "code",
      "source": [
        "def add():\n",
        "  i=int(input(\"Enter the Number\"))\n",
        "  x=int(input(\"enter a num\"))\n",
        "  print(f\"the numberis{i+x}\")"
      ],
      "metadata": {
        "id": "STBM8k3Getpo"
      },
      "execution_count": 49,
      "outputs": []
    },
    {
      "cell_type": "code",
      "source": [
        "add()"
      ],
      "metadata": {
        "id": "mFLip7yMevbJ",
        "outputId": "72c0421e-6df6-4f1f-f8fc-fe151356a1c8",
        "colab": {
          "base_uri": "https://localhost:8080/"
        }
      },
      "execution_count": 50,
      "outputs": [
        {
          "output_type": "stream",
          "name": "stdout",
          "text": [
            "Enter the Number1\n",
            "enter a num2\n",
            "the numberis3\n"
          ]
        }
      ]
    },
    {
      "cell_type": "code",
      "source": [
        "def assign():\n",
        "  pup=int(input(\"Enter the number\"))\n",
        "  pup1=int(input(\"Enter the number\"))\n",
        "  print(pup+pup1)"
      ],
      "metadata": {
        "id": "_Aatmj5be07G"
      },
      "execution_count": 63,
      "outputs": []
    },
    {
      "cell_type": "code",
      "source": [
        "assign()"
      ],
      "metadata": {
        "id": "DU1IqFqkf0CJ",
        "outputId": "16e1012b-8493-4cf1-f0ae-9b15f4a19b1e",
        "colab": {
          "base_uri": "https://localhost:8080/"
        }
      },
      "execution_count": 64,
      "outputs": [
        {
          "output_type": "stream",
          "name": "stdout",
          "text": [
            "Enter the number1\n",
            "Enter the number2\n",
            "3\n"
          ]
        }
      ]
    },
    {
      "cell_type": "code",
      "source": [
        "def multi(x,y):\n",
        " print(f\"the multiplication of {x*y}\")"
      ],
      "metadata": {
        "id": "7EZXIuYhf-QM"
      },
      "execution_count": 68,
      "outputs": []
    },
    {
      "cell_type": "code",
      "source": [
        "multi(112,112)"
      ],
      "metadata": {
        "id": "XuMenNx1h6X5",
        "outputId": "0d915287-3e17-4389-bc0b-bae22c39bda7",
        "colab": {
          "base_uri": "https://localhost:8080/"
        }
      },
      "execution_count": 71,
      "outputs": [
        {
          "output_type": "stream",
          "name": "stdout",
          "text": [
            "the multiplication of 12544\n"
          ]
        }
      ]
    },
    {
      "cell_type": "code",
      "source": [
        "#create a function to check if positive or negative\n",
        "def pos_neg(x):\n",
        "  if x<0:\n",
        "    print(f\"{x} is Negative\")\n",
        "  elif x>0:\n",
        "    print(f\"{x} is Positive\")"
      ],
      "metadata": {
        "id": "MzzMu1qKiUff"
      },
      "execution_count": 80,
      "outputs": []
    },
    {
      "cell_type": "code",
      "source": [
        "pos_neg(-4)"
      ],
      "metadata": {
        "id": "asxeuVFQjSLO",
        "outputId": "eb3a3bff-448c-44f1-a6f5-8455c23f511d",
        "colab": {
          "base_uri": "https://localhost:8080/"
        }
      },
      "execution_count": 81,
      "outputs": [
        {
          "output_type": "stream",
          "name": "stdout",
          "text": [
            "-4 is Negative\n"
          ]
        }
      ]
    },
    {
      "cell_type": "code",
      "source": [
        "pos_neg(100)"
      ],
      "metadata": {
        "id": "8PUh3MibjZTu",
        "outputId": "64997013-c872-4360-b87f-3479b0ca8370",
        "colab": {
          "base_uri": "https://localhost:8080/"
        }
      },
      "execution_count": 82,
      "outputs": [
        {
          "output_type": "stream",
          "name": "stdout",
          "text": [
            "100 is Positive\n"
          ]
        }
      ]
    }
  ]
}