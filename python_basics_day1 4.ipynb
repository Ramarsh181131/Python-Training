{
  "nbformat": 4,
  "nbformat_minor": 0,
  "metadata": {
    "colab": {
      "provenance": [],
      "include_colab_link": true
    },
    "kernelspec": {
      "name": "python3",
      "display_name": "Python 3"
    },
    "language_info": {
      "name": "python"
    }
  },
  "cells": [
    {
      "cell_type": "markdown",
      "metadata": {
        "id": "view-in-github",
        "colab_type": "text"
      },
      "source": [
        "<a href=\"https://colab.research.google.com/github/Ramarsh181131/Python-Training/blob/main/python_basics_day1%204.ipynb\" target=\"_parent\"><img src=\"https://colab.research.google.com/assets/colab-badge.svg\" alt=\"Open In Colab\"/></a>"
      ]
    },
    {
      "cell_type": "code",
      "execution_count": 1,
      "metadata": {
        "colab": {
          "base_uri": "https://localhost:8080/"
        },
        "id": "fooBKl8FmcO4",
        "outputId": "3953ec2f-08dc-4590-ae74-2df2a4a8ea76"
      },
      "outputs": [
        {
          "output_type": "stream",
          "name": "stdout",
          "text": [
            "welcome to Python world\n"
          ]
        }
      ],
      "source": [
        "print(\"welcome to Python world\")"
      ]
    },
    {
      "cell_type": "code",
      "source": [
        "2+3"
      ],
      "metadata": {
        "colab": {
          "base_uri": "https://localhost:8080/"
        },
        "id": "456iibnZml4b",
        "outputId": "98005d39-dad6-427f-90f5-a6fad527d64b"
      },
      "execution_count": null,
      "outputs": [
        {
          "output_type": "execute_result",
          "data": {
            "text/plain": [
              "5"
            ]
          },
          "metadata": {},
          "execution_count": 2
        }
      ]
    },
    {
      "cell_type": "markdown",
      "source": [
        "**Variable**"
      ],
      "metadata": {
        "id": "_-qT58MTIm21"
      }
    },
    {
      "cell_type": "code",
      "source": [
        "x=5 #store 5 in x\n",
        "y=3 #store 3 in y\n",
        "z = 2 #store 2 in z\n",
        "less = x-y-z #less the values inside the variable and store the result in less\n",
        "print(less)\n",
        "s1 = \"Hello Harsh\"\n",
        "print(s1)\n"
      ],
      "metadata": {
        "colab": {
          "base_uri": "https://localhost:8080/"
        },
        "id": "6lMKLkIWIOUK",
        "outputId": "daafe5c0-4f84-4485-f4bb-322bad39ec13"
      },
      "execution_count": 3,
      "outputs": [
        {
          "output_type": "stream",
          "name": "stdout",
          "text": [
            "0\n",
            "Hello Harsh\n"
          ]
        }
      ]
    },
    {
      "cell_type": "code",
      "source": [
        "#type() : give me datatype of a variable\n",
        "print(type(x))\n",
        "print(type(y))\n",
        "print(type(s1))"
      ],
      "metadata": {
        "colab": {
          "base_uri": "https://localhost:8080/"
        },
        "id": "fU3FALNbK6OD",
        "outputId": "d37d1c16-b8f8-42bc-d0f5-8dbf865793ee"
      },
      "execution_count": 5,
      "outputs": [
        {
          "output_type": "stream",
          "name": "stdout",
          "text": [
            "<class 'int'>\n",
            "<class 'int'>\n",
            "<class 'str'>\n"
          ]
        }
      ]
    },
    {
      "cell_type": "markdown",
      "source": [
        "**String**"
      ],
      "metadata": {
        "id": "PainckxgM6qd"
      }
    },
    {
      "cell_type": "code",
      "source": [
        "s1.upper()"
      ],
      "metadata": {
        "colab": {
          "base_uri": "https://localhost:8080/",
          "height": 35
        },
        "id": "dJRjb-plM97O",
        "outputId": "4adbdbc0-68db-43ee-cd6e-c92beabf2099"
      },
      "execution_count": 7,
      "outputs": [
        {
          "output_type": "execute_result",
          "data": {
            "text/plain": [
              "'HELLO HARSH'"
            ],
            "application/vnd.google.colaboratory.intrinsic+json": {
              "type": "string"
            }
          },
          "metadata": {},
          "execution_count": 7
        }
      ]
    },
    {
      "cell_type": "code",
      "source": [
        "s1.lower()"
      ],
      "metadata": {
        "colab": {
          "base_uri": "https://localhost:8080/",
          "height": 35
        },
        "id": "z2cNzFcmPiRN",
        "outputId": "9e1a3c9f-82b2-4984-f806-bd5177629f5c"
      },
      "execution_count": 9,
      "outputs": [
        {
          "output_type": "execute_result",
          "data": {
            "text/plain": [
              "'hello harsh'"
            ],
            "application/vnd.google.colaboratory.intrinsic+json": {
              "type": "string"
            }
          },
          "metadata": {},
          "execution_count": 9
        }
      ]
    },
    {
      "cell_type": "code",
      "source": [
        "s1.title()"
      ],
      "metadata": {
        "colab": {
          "base_uri": "https://localhost:8080/",
          "height": 35
        },
        "id": "V_qaqzMrPmYA",
        "outputId": "c69c011f-0ee3-4f30-d3a1-992df8574911"
      },
      "execution_count": 10,
      "outputs": [
        {
          "output_type": "execute_result",
          "data": {
            "text/plain": [
              "'Hello Harsh'"
            ],
            "application/vnd.google.colaboratory.intrinsic+json": {
              "type": "string"
            }
          },
          "metadata": {},
          "execution_count": 10
        }
      ]
    },
    {
      "cell_type": "code",
      "source": [
        "#replacing\n",
        "\n",
        "#Russia : Serbia\n",
        "\n",
        "s2 = \"Russia\"\n",
        "\n",
        "s2.replace(\"Russ\",\"Serb\")"
      ],
      "metadata": {
        "colab": {
          "base_uri": "https://localhost:8080/",
          "height": 35
        },
        "id": "OpZuEPBuPs5o",
        "outputId": "44d2dbe9-4302-4db1-cf38-f89800f35402"
      },
      "execution_count": 11,
      "outputs": [
        {
          "output_type": "execute_result",
          "data": {
            "text/plain": [
              "'Serbia'"
            ],
            "application/vnd.google.colaboratory.intrinsic+json": {
              "type": "string"
            }
          },
          "metadata": {},
          "execution_count": 11
        }
      ]
    },
    {
      "cell_type": "code",
      "source": [
        "s2"
      ],
      "metadata": {
        "colab": {
          "base_uri": "https://localhost:8080/",
          "height": 35
        },
        "id": "0HKljnQFQORF",
        "outputId": "b278bece-6a19-4f43-f23d-26f751dbf551"
      },
      "execution_count": 12,
      "outputs": [
        {
          "output_type": "execute_result",
          "data": {
            "text/plain": [
              "'Russia'"
            ],
            "application/vnd.google.colaboratory.intrinsic+json": {
              "type": "string"
            }
          },
          "metadata": {},
          "execution_count": 12
        }
      ]
    },
    {
      "cell_type": "code",
      "source": [
        "s3 = \"Russia\"\n",
        "s3.replace(\"Russ\",\"Ind\")"
      ],
      "metadata": {
        "colab": {
          "base_uri": "https://localhost:8080/",
          "height": 35
        },
        "id": "IXhZ25fTR0qK",
        "outputId": "de3e43db-8f29-4169-b620-4e9c21460873"
      },
      "execution_count": 13,
      "outputs": [
        {
          "output_type": "execute_result",
          "data": {
            "text/plain": [
              "'India'"
            ],
            "application/vnd.google.colaboratory.intrinsic+json": {
              "type": "string"
            }
          },
          "metadata": {},
          "execution_count": 13
        }
      ]
    },
    {
      "cell_type": "code",
      "source": [
        "s3 = s3.replace(\"Russ\",\"Ind\")\n",
        "\n",
        "print(s3)"
      ],
      "metadata": {
        "colab": {
          "base_uri": "https://localhost:8080/"
        },
        "id": "5HLRoWCnS0T5",
        "outputId": "31ebabed-05d1-420c-b4a3-73150567db21"
      },
      "execution_count": 16,
      "outputs": [
        {
          "output_type": "stream",
          "name": "stdout",
          "text": [
            "India\n"
          ]
        }
      ]
    },
    {
      "cell_type": "code",
      "source": [
        "u1 = \"I\"\n",
        "u2 = \"have\"\n",
        "u3 = \"the Power\"\n",
        "u4 = u1+\" \"+u2+\" \"+u3\n",
        "print(u4)"
      ],
      "metadata": {
        "colab": {
          "base_uri": "https://localhost:8080/"
        },
        "id": "cnc14IwjT1fK",
        "outputId": "b0821b37-ecf1-479a-a2fc-05feb7714131"
      },
      "execution_count": 26,
      "outputs": [
        {
          "output_type": "stream",
          "name": "stdout",
          "text": [
            "I have the Power\n"
          ]
        }
      ]
    },
    {
      "cell_type": "code",
      "source": [
        "5+3*10"
      ],
      "metadata": {
        "colab": {
          "base_uri": "https://localhost:8080/"
        },
        "id": "JOG-wCklXxlx",
        "outputId": "f81bd674-746b-41eb-8b75-3204e9c5facf"
      },
      "execution_count": 27,
      "outputs": [
        {
          "output_type": "execute_result",
          "data": {
            "text/plain": [
              "35"
            ]
          },
          "metadata": {},
          "execution_count": 27
        }
      ]
    },
    {
      "cell_type": "code",
      "source": [
        "n=8\n",
        "if n>0:\n",
        "  #these gaps (indents) indicates that the lines of code belong to the body of if i.e if condition is T then these lines will be executed\n",
        "  print(\"The Number is Positive\")\n",
        "  print(\"Hello Harsh\")\n",
        "else:\n",
        "    #whetever we write beyond this it will for the else part\n",
        "    print(\"The Number is Negative\")\n",
        "    print(\"Tata Tata\")"
      ],
      "metadata": {
        "colab": {
          "base_uri": "https://localhost:8080/"
        },
        "id": "gumdDAz4X2bs",
        "outputId": "063a56bc-5a20-43d7-f02c-757ff83fe90b"
      },
      "execution_count": 32,
      "outputs": [
        {
          "output_type": "stream",
          "name": "stdout",
          "text": [
            "The Number is Positive\n",
            "Hello Harsh\n"
          ]
        }
      ]
    },
    {
      "cell_type": "code",
      "source": [
        "# = : assignment operator\n",
        "# == : Comparing operator\n",
        "# comparing statement : >=,<=,>,<,==,!=\n",
        "n=-1\n",
        "if n>0:\n",
        "  print(\"+ve\")\n",
        "elif n==0:\n",
        "  print(\"zero\")\n",
        "else:\n",
        "  print(\"-ve\")"
      ],
      "metadata": {
        "colab": {
          "base_uri": "https://localhost:8080/"
        },
        "id": "fLuXw-pEhK63",
        "outputId": "b94fcc52-1bd8-4ec4-ceb0-11ca3226375e"
      },
      "execution_count": 42,
      "outputs": [
        {
          "output_type": "stream",
          "name": "stdout",
          "text": [
            "-ve\n"
          ]
        }
      ]
    },
    {
      "cell_type": "code",
      "source": [
        "n1  = int(input(\"Enter the data\"))"
      ],
      "metadata": {
        "colab": {
          "base_uri": "https://localhost:8080/"
        },
        "id": "2WcF2CvNjCIu",
        "outputId": "f54046a5-f98d-45dc-bc02-90209a3d391e"
      },
      "execution_count": 49,
      "outputs": [
        {
          "name": "stdout",
          "output_type": "stream",
          "text": [
            "Enter the data500\n"
          ]
        }
      ]
    },
    {
      "cell_type": "code",
      "source": [
        "n1 + 5"
      ],
      "metadata": {
        "colab": {
          "base_uri": "https://localhost:8080/"
        },
        "id": "zvEQgSimjTrQ",
        "outputId": "90f595c4-8999-4696-d043-953f02ce6e20"
      },
      "execution_count": 50,
      "outputs": [
        {
          "output_type": "execute_result",
          "data": {
            "text/plain": [
              "505"
            ]
          },
          "metadata": {},
          "execution_count": 50
        }
      ]
    },
    {
      "cell_type": "code",
      "source": [
        "n= int(input(\"Enter the data\"))\n",
        "if n>0:\n",
        "  print(\"+ve\")\n",
        "elif n==0:\n",
        "  print(\"zero\")\n",
        "else:\n",
        "  print(\"-ve\")"
      ],
      "metadata": {
        "colab": {
          "base_uri": "https://localhost:8080/"
        },
        "id": "iAY_ZUbtkKqp",
        "outputId": "af6fc471-06ba-471c-e4bb-92e373250b9a"
      },
      "execution_count": 52,
      "outputs": [
        {
          "output_type": "stream",
          "name": "stdout",
          "text": [
            "Enter the data13\n",
            "+ve\n"
          ]
        }
      ]
    }
  ]
}