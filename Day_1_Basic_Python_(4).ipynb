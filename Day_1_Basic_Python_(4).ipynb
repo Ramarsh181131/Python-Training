{
  "nbformat": 4,
  "nbformat_minor": 0,
  "metadata": {
    "colab": {
      "provenance": []
    },
    "kernelspec": {
      "name": "python3",
      "display_name": "Python 3"
    },
    "language_info": {
      "name": "python"
    }
  },
  "cells": [
    {
      "cell_type": "code",
      "source": [
        "print(\"Hello WOrld\")"
      ],
      "metadata": {
        "colab": {
          "base_uri": "https://localhost:8080/"
        },
        "id": "gQXYQW_Z322F",
        "outputId": "7264a15d-a074-4c3f-dc49-baef98efcc56"
      },
      "execution_count": null,
      "outputs": [
        {
          "output_type": "stream",
          "name": "stdout",
          "text": [
            "Hello WOrld\n"
          ]
        }
      ]
    },
    {
      "cell_type": "code",
      "source": [
        "a=100 #  the following code snippets shows the memory management\n",
        "\n",
        "print(id(a))"
      ],
      "metadata": {
        "colab": {
          "base_uri": "https://localhost:8080/"
        },
        "id": "XexxqE5zDreE",
        "outputId": "b37b7afc-a346-4b21-c124-f096004472b3"
      },
      "execution_count": null,
      "outputs": [
        {
          "output_type": "stream",
          "name": "stdout",
          "text": [
            "10754024\n"
          ]
        }
      ]
    },
    {
      "cell_type": "code",
      "source": [
        "b=100\n",
        "print(id(b))"
      ],
      "metadata": {
        "colab": {
          "base_uri": "https://localhost:8080/"
        },
        "id": "p6t8tBcCD82i",
        "outputId": "66924efa-633e-468f-b702-e1cb8e86fe8d"
      },
      "execution_count": null,
      "outputs": [
        {
          "output_type": "stream",
          "name": "stdout",
          "text": [
            "10754024\n"
          ]
        }
      ]
    },
    {
      "cell_type": "code",
      "source": [
        "c=100\n",
        "print(id(c))"
      ],
      "metadata": {
        "colab": {
          "base_uri": "https://localhost:8080/"
        },
        "id": "VYre3n55EJir",
        "outputId": "1668d49c-4415-4f66-c027-3a7cee0a6e06"
      },
      "execution_count": null,
      "outputs": [
        {
          "output_type": "stream",
          "name": "stdout",
          "text": [
            "10754024\n"
          ]
        }
      ]
    },
    {
      "cell_type": "code",
      "source": [
        "a=500\n",
        "print(id(a))"
      ],
      "metadata": {
        "colab": {
          "base_uri": "https://localhost:8080/"
        },
        "id": "fWNhgRjyGd8r",
        "outputId": "b988c5cc-5e6d-49e9-ac32-6c610974f234"
      },
      "execution_count": null,
      "outputs": [
        {
          "output_type": "stream",
          "name": "stdout",
          "text": [
            "134973056271216\n"
          ]
        }
      ]
    },
    {
      "cell_type": "code",
      "source": [
        "b=a\n",
        "print(id(b))"
      ],
      "metadata": {
        "colab": {
          "base_uri": "https://localhost:8080/"
        },
        "id": "6D3NxskVGlSJ",
        "outputId": "6c23df39-10b7-4b3c-f126-7ffaaf589f97"
      },
      "execution_count": null,
      "outputs": [
        {
          "output_type": "stream",
          "name": "stdout",
          "text": [
            "134973056271216\n"
          ]
        }
      ]
    },
    {
      "cell_type": "code",
      "source": [
        "a=10\n",
        "b=20\n",
        "c=30\n",
        "print(a,b,c)\n"
      ],
      "metadata": {
        "colab": {
          "base_uri": "https://localhost:8080/"
        },
        "id": "xV-BFm5uGum1",
        "outputId": "457bdb8b-68fd-4156-8d34-afe208180ae0"
      },
      "execution_count": null,
      "outputs": [
        {
          "output_type": "stream",
          "name": "stdout",
          "text": [
            "10 20 30\n"
          ]
        }
      ]
    },
    {
      "cell_type": "code",
      "source": [
        "a,b,c = 10,20,30  # variable assignment\n",
        "print(a,b,c)"
      ],
      "metadata": {
        "colab": {
          "base_uri": "https://localhost:8080/"
        },
        "id": "mRgzRqpBG5tL",
        "outputId": "a1d583f7-fad0-4977-83de-f8fa8be50958"
      },
      "execution_count": null,
      "outputs": [
        {
          "output_type": "stream",
          "name": "stdout",
          "text": [
            "10 20 30\n"
          ]
        }
      ]
    },
    {
      "cell_type": "code",
      "source": [
        "a=10\n",
        "b=10\n",
        "c=10\n",
        "print(a,b,c)"
      ],
      "metadata": {
        "colab": {
          "base_uri": "https://localhost:8080/"
        },
        "id": "1JVEBJTcHEVd",
        "outputId": "73381172-d0b3-4e8a-ac55-1796188567cb"
      },
      "execution_count": null,
      "outputs": [
        {
          "output_type": "stream",
          "name": "stdout",
          "text": [
            "10 10 10\n"
          ]
        }
      ]
    },
    {
      "cell_type": "code",
      "source": [
        "a=b=c=10 # varaibale assignment\n",
        "print(a,b,c)"
      ],
      "metadata": {
        "colab": {
          "base_uri": "https://localhost:8080/"
        },
        "id": "TR7rzOiUHJgN",
        "outputId": "3f2e6deb-a910-4a56-c64b-1fd1145809d9"
      },
      "execution_count": null,
      "outputs": [
        {
          "output_type": "stream",
          "name": "stdout",
          "text": [
            "10 10 10\n"
          ]
        }
      ]
    },
    {
      "cell_type": "code",
      "source": [
        "import keyword as kw\n",
        "\n",
        "print(keyword.kwlist)  # it list all the keywords in python\n",
        "print(kw.kwlist)"
      ],
      "metadata": {
        "colab": {
          "base_uri": "https://localhost:8080/"
        },
        "id": "tBfzEw0WHI9t",
        "outputId": "0f117c49-ec29-47ca-b8fc-a13e90d15a40"
      },
      "execution_count": null,
      "outputs": [
        {
          "output_type": "stream",
          "name": "stdout",
          "text": [
            "['False', 'None', 'True', 'and', 'as', 'assert', 'async', 'await', 'break', 'class', 'continue', 'def', 'del', 'elif', 'else', 'except', 'finally', 'for', 'from', 'global', 'if', 'import', 'in', 'is', 'lambda', 'nonlocal', 'not', 'or', 'pass', 'raise', 'return', 'try', 'while', 'with', 'yield']\n"
          ]
        }
      ]
    },
    {
      "cell_type": "code",
      "source": [
        "False=10 # keywords cannot be used as a variable name\n",
        "print(False)"
      ],
      "metadata": {
        "colab": {
          "base_uri": "https://localhost:8080/",
          "height": 106
        },
        "id": "ApQBcdfKIITn",
        "outputId": "80677a41-7993-41d5-c6bc-f02b28402d70"
      },
      "execution_count": null,
      "outputs": [
        {
          "output_type": "error",
          "ename": "SyntaxError",
          "evalue": "cannot assign to False (<ipython-input-25-a9b307c5edad>, line 1)",
          "traceback": [
            "\u001b[0;36m  File \u001b[0;32m\"<ipython-input-25-a9b307c5edad>\"\u001b[0;36m, line \u001b[0;32m1\u001b[0m\n\u001b[0;31m    False=10\u001b[0m\n\u001b[0m    ^\u001b[0m\n\u001b[0;31mSyntaxError\u001b[0m\u001b[0;31m:\u001b[0m cannot assign to False\n"
          ]
        }
      ]
    },
    {
      "cell_type": "code",
      "source": [
        "# multiline comment\n",
        "\n",
        "\"\"\" dkjasdkfaksdjfasdf\n",
        "asdfasdfasdf\n",
        "asdfasdfasdfasd\n",
        "asdfasdfasdfasdf \"\"\"\n",
        "\n",
        "print(\"HI\")"
      ],
      "metadata": {
        "colab": {
          "base_uri": "https://localhost:8080/"
        },
        "id": "axDNVR7zKCes",
        "outputId": "bcb8dd1a-9b34-4687-95c5-baf8a69b3d3c"
      },
      "execution_count": null,
      "outputs": [
        {
          "output_type": "stream",
          "name": "stdout",
          "text": [
            "HI\n"
          ]
        }
      ]
    },
    {
      "cell_type": "code",
      "source": [
        "# python String\n",
        "a= 'Ntt'\n",
        "print(a)\n",
        "b =\"Data\"\n",
        "print(a,b)"
      ],
      "metadata": {
        "colab": {
          "base_uri": "https://localhost:8080/"
        },
        "id": "xq2MZXmYM0jc",
        "outputId": "e473293b-e489-4fcd-be4e-601d6e23ab4b"
      },
      "execution_count": null,
      "outputs": [
        {
          "output_type": "stream",
          "name": "stdout",
          "text": [
            "Ntt\n",
            "Ntt Data\n"
          ]
        }
      ]
    },
    {
      "cell_type": "code",
      "source": [
        "# multi line string\n",
        "\n",
        "st = \"\"\"asdfasdfqwf\n",
        "sdfasdfasdf\n",
        "asdfasdfasdf\n",
        "asdfasdfasdf\"\"\"\n",
        "\n",
        "print(st)"
      ],
      "metadata": {
        "colab": {
          "base_uri": "https://localhost:8080/"
        },
        "id": "ZywDtXtDNJeI",
        "outputId": "01a7d930-8da3-4ec1-b3fa-b799247fe84a"
      },
      "execution_count": null,
      "outputs": [
        {
          "output_type": "stream",
          "name": "stdout",
          "text": [
            "asdfasdfqwf\n",
            "sdfasdfasdf\n",
            "asdfasdfasdf\n",
            "asdfasdfasdf\n"
          ]
        }
      ]
    },
    {
      "cell_type": "code",
      "source": [
        "# Day3\n",
        "# creating a simple list\n",
        "\n",
        "l = [10,20.3,\"NTT\",3+4j]\n",
        "print(l)\n",
        "print(type(l))"
      ],
      "metadata": {
        "colab": {
          "base_uri": "https://localhost:8080/"
        },
        "id": "f-VXcGYzR0Fm",
        "outputId": "1a00c134-8403-4f57-e156-38dbb14616ee"
      },
      "execution_count": null,
      "outputs": [
        {
          "output_type": "stream",
          "name": "stdout",
          "text": [
            "[10, 20.3, 'NTT', (3+4j)]\n",
            "<class 'list'>\n"
          ]
        }
      ]
    },
    {
      "cell_type": "code",
      "source": [
        "# type fn returns the datatype class\n",
        "a = 3+4j\n",
        "print(type(a))"
      ],
      "metadata": {
        "colab": {
          "base_uri": "https://localhost:8080/"
        },
        "id": "ZNdgZKw3SLOJ",
        "outputId": "0e34aa06-74ac-43ee-c9a6-94e84f0f67f0"
      },
      "execution_count": null,
      "outputs": [
        {
          "output_type": "stream",
          "name": "stdout",
          "text": [
            "<class 'complex'>\n"
          ]
        }
      ]
    },
    {
      "cell_type": "code",
      "source": [
        "#isinstance\n",
        "\n",
        "a= 10.0\n",
        "print(isinstance(a,int))"
      ],
      "metadata": {
        "colab": {
          "base_uri": "https://localhost:8080/"
        },
        "id": "o4Ik6QEGTimo",
        "outputId": "44e287ef-2f9b-4f8e-bbf0-7673453dd948"
      },
      "execution_count": null,
      "outputs": [
        {
          "output_type": "stream",
          "name": "stdout",
          "text": [
            "False\n"
          ]
        }
      ]
    },
    {
      "cell_type": "code",
      "source": [
        "# variable annotations\n",
        "name: str = \"NTT\"\n",
        "print(name)\n",
        "print(type(name))\n",
        "\n",
        "print(__annotations__['name'])"
      ],
      "metadata": {
        "colab": {
          "base_uri": "https://localhost:8080/"
        },
        "id": "Qt-ZqeobUHv1",
        "outputId": "e83365b6-62dd-4b8b-e1aa-a59244217151"
      },
      "execution_count": null,
      "outputs": [
        {
          "output_type": "stream",
          "name": "stdout",
          "text": [
            "10\n",
            "<class 'int'>\n",
            "<class 'str'>\n"
          ]
        }
      ]
    },
    {
      "cell_type": "code",
      "source": [
        "aaa=10\n",
        "print(aaa)\n",
        "print(type(aaa))\n",
        "\n",
        "print(__annotations__['aaa'])"
      ],
      "metadata": {
        "colab": {
          "base_uri": "https://localhost:8080/"
        },
        "id": "dUCWAcPKVKNI",
        "outputId": "4112ad18-0ca9-4602-bdeb-e977aa4a7ebf"
      },
      "execution_count": null,
      "outputs": [
        {
          "output_type": "stream",
          "name": "stdout",
          "text": [
            "10\n",
            "<class 'int'>\n",
            "<class 'int'>\n"
          ]
        }
      ]
    },
    {
      "cell_type": "code",
      "source": [
        "aa=10.22\n",
        "print(aa)\n",
        "print(type(aa))\n",
        "\n",
        "print(__annotations__['aa'])"
      ],
      "metadata": {
        "colab": {
          "base_uri": "https://localhost:8080/",
          "height": 211
        },
        "id": "vvRJM-QyV4lp",
        "outputId": "88263b24-3211-4156-f3b7-545c11e15d2e"
      },
      "execution_count": null,
      "outputs": [
        {
          "output_type": "stream",
          "name": "stdout",
          "text": [
            "10.22\n",
            "<class 'float'>\n"
          ]
        },
        {
          "output_type": "error",
          "ename": "KeyError",
          "evalue": "'aa'",
          "traceback": [
            "\u001b[0;31m---------------------------------------------------------------------------\u001b[0m",
            "\u001b[0;31mKeyError\u001b[0m                                  Traceback (most recent call last)",
            "\u001b[0;32m<ipython-input-16-1a198e1297d1>\u001b[0m in \u001b[0;36m<cell line: 0>\u001b[0;34m()\u001b[0m\n\u001b[1;32m      3\u001b[0m \u001b[0mprint\u001b[0m\u001b[0;34m(\u001b[0m\u001b[0mtype\u001b[0m\u001b[0;34m(\u001b[0m\u001b[0maa\u001b[0m\u001b[0;34m)\u001b[0m\u001b[0;34m)\u001b[0m\u001b[0;34m\u001b[0m\u001b[0;34m\u001b[0m\u001b[0m\n\u001b[1;32m      4\u001b[0m \u001b[0;34m\u001b[0m\u001b[0m\n\u001b[0;32m----> 5\u001b[0;31m \u001b[0mprint\u001b[0m\u001b[0;34m(\u001b[0m\u001b[0m__annotations__\u001b[0m\u001b[0;34m[\u001b[0m\u001b[0;34m'aa'\u001b[0m\u001b[0;34m]\u001b[0m\u001b[0;34m)\u001b[0m\u001b[0;34m\u001b[0m\u001b[0;34m\u001b[0m\u001b[0m\n\u001b[0m",
            "\u001b[0;31mKeyError\u001b[0m: 'aa'"
          ]
        }
      ]
    },
    {
      "cell_type": "code",
      "source": [
        "aaa=10\n",
        "print(aaa)\n",
        "print(type(aaa))\n",
        "\n",
        "print(__annotations__['aaa'])"
      ],
      "metadata": {
        "colab": {
          "base_uri": "https://localhost:8080/"
        },
        "id": "qd7chbEDR2a6",
        "outputId": "5d5bba28-e2b9-4561-e47e-817c8a83777e"
      },
      "execution_count": null,
      "outputs": [
        {
          "output_type": "stream",
          "name": "stdout",
          "text": [
            "10\n",
            "<class 'int'>\n",
            "<class 'int'>\n"
          ]
        }
      ]
    },
    {
      "cell_type": "code",
      "source": [
        "aa: int = 10\n",
        "print(aa)\n",
        "\n",
        "print(__annotations__['aa'])\n",
        "print(type(aa))"
      ],
      "metadata": {
        "colab": {
          "base_uri": "https://localhost:8080/"
        },
        "id": "jY8XCpryXkaf",
        "outputId": "1b3e02d1-8a11-4a24-d9b1-e9b44a3475d0"
      },
      "execution_count": null,
      "outputs": [
        {
          "output_type": "stream",
          "name": "stdout",
          "text": [
            "10\n",
            "<class 'int'>\n",
            "<class 'int'>\n"
          ]
        }
      ]
    },
    {
      "cell_type": "code",
      "source": [
        "s = \"Bangalore\"\n",
        "\n",
        "print(s[-9:7:1])"
      ],
      "metadata": {
        "colab": {
          "base_uri": "https://localhost:8080/"
        },
        "id": "EltfFQoS4Irm",
        "outputId": "dbbd9ce5-857b-4759-aa05-c942f1ab2621"
      },
      "execution_count": null,
      "outputs": [
        {
          "output_type": "stream",
          "name": "stdout",
          "text": [
            "Bangalo\n"
          ]
        }
      ]
    },
    {
      "cell_type": "code",
      "source": [
        "s= \"hello, world!\"\n",
        "print(s[-5:2:-2])"
      ],
      "metadata": {
        "colab": {
          "base_uri": "https://localhost:8080/"
        },
        "id": "cSwiA8xh80Fx",
        "outputId": "27318170-056e-4149-93e4-0fcb5d3694e2"
      },
      "execution_count": null,
      "outputs": [
        {
          "output_type": "stream",
          "name": "stdout",
          "text": [
            "o o\n"
          ]
        }
      ]
    },
    {
      "cell_type": "code",
      "source": [
        "s= \"python is fun\"\n",
        "\n",
        "print(s[0:5][::-1])"
      ],
      "metadata": {
        "colab": {
          "base_uri": "https://localhost:8080/"
        },
        "id": "_294-s_79sgN",
        "outputId": "9627d0bf-d052-4d6f-a34a-01ef9af82abb"
      },
      "execution_count": null,
      "outputs": [
        {
          "output_type": "stream",
          "name": "stdout",
          "text": [
            "ohtyp\n"
          ]
        }
      ]
    },
    {
      "cell_type": "code",
      "source": [
        "# simple  If startement\n",
        "\n",
        "if 10>15:\n",
        "\n",
        "  print(\"start of if\")\n",
        "  print(\"10 is greater\")\n",
        "  print(\"end of if\")\n",
        "  print(\"HI\")\n",
        "\n",
        "\n",
        "print(\"end of program\")\n"
      ],
      "metadata": {
        "colab": {
          "base_uri": "https://localhost:8080/"
        },
        "id": "_AO3eNU__FaJ",
        "outputId": "78e8c235-4aa1-4dd6-b780-75c7ee340c5f"
      },
      "execution_count": null,
      "outputs": [
        {
          "output_type": "stream",
          "name": "stdout",
          "text": [
            "end of program\n"
          ]
        }
      ]
    },
    {
      "cell_type": "code",
      "source": [
        "# input function\n",
        "\n",
        "a = input(\"Enter a value\") # input fn reatuns all the values in string format\n",
        "print(a)\n",
        "print(type(a))\n",
        "\n"
      ],
      "metadata": {
        "colab": {
          "base_uri": "https://localhost:8080/"
        },
        "id": "qCObzMmBA01a",
        "outputId": "d2ee64fe-f6a3-4d2f-8d72-69629349ceb7"
      },
      "execution_count": null,
      "outputs": [
        {
          "output_type": "stream",
          "name": "stdout",
          "text": [
            "Enter a value20.33333\n",
            "20.33333\n",
            "<class 'float'>\n"
          ]
        }
      ]
    },
    {
      "cell_type": "code",
      "source": [
        "# input function with type casting\n",
        "\n",
        "a = int(input(\"Enter a value\")) # input fn reatuns all the values in string format\n",
        "print(a)\n",
        "print(type(a))"
      ],
      "metadata": {
        "colab": {
          "base_uri": "https://localhost:8080/"
        },
        "id": "EvCnu0zaB5P_",
        "outputId": "883cad0f-a4c6-4ba4-ac29-206729732b80"
      },
      "execution_count": null,
      "outputs": [
        {
          "output_type": "stream",
          "name": "stdout",
          "text": [
            "Enter a value20\n",
            "20\n",
            "<class 'int'>\n"
          ]
        }
      ]
    },
    {
      "cell_type": "code",
      "source": [
        "# if else statement\n",
        "\n",
        "a = int(input(\"Enter a value\"))\n",
        "b = int(input(\"Enter b value\"))\n",
        "\n",
        "if a>b:\n",
        "  print(\"a is greater\")\n",
        "  print(\"if block\")\n",
        "else:\n",
        "  print(\"b is greater\")\n",
        "  print(\"else block\")"
      ],
      "metadata": {
        "colab": {
          "base_uri": "https://localhost:8080/"
        },
        "id": "GG32aR2kCDhw",
        "outputId": "7d89f7c9-f9d4-4dd4-fcf8-d13620633df0"
      },
      "execution_count": null,
      "outputs": [
        {
          "output_type": "stream",
          "name": "stdout",
          "text": [
            "Enter a value5\n",
            "Enter b value20\n",
            "b is greater\n",
            "else block\n"
          ]
        }
      ]
    },
    {
      "cell_type": "code",
      "source": [
        "# if else ladder\n",
        "\n",
        "s = input(\"enetr a color\")\n",
        "\n",
        "if s == \"red\":\n",
        "  print(\"stop\")\n",
        "elif s == \"yellow\":\n",
        "  print(\"ready\")\n",
        "elif s == \"green\":\n",
        "  print(\"go\")\n",
        "else:\n",
        "  print(\"invalid color\")\n"
      ],
      "metadata": {
        "colab": {
          "base_uri": "https://localhost:8080/"
        },
        "id": "VMQGPG_xC82O",
        "outputId": "39cb6327-05d4-4e8b-d1fd-b1d2067fa168"
      },
      "execution_count": null,
      "outputs": [
        {
          "output_type": "stream",
          "name": "stdout",
          "text": [
            "enetr a colorpink\n",
            "invalid color\n"
          ]
        }
      ]
    },
    {
      "cell_type": "code",
      "source": [
        "text = input(\"enter a string\")  # program to check the palindrome\n",
        "text = text.lower()\n",
        "\n",
        "revtext = text[::-1]\n",
        "\n",
        "if text == revtext:\n",
        "  print(\"Palindrome\")\n",
        "else:\n",
        "  print(\"Not Palindrome\")"
      ],
      "metadata": {
        "colab": {
          "base_uri": "https://localhost:8080/"
        },
        "id": "e1MQ7D5kE3ZC",
        "outputId": "ef84c4b4-4247-4509-fcdf-a712796d1688"
      },
      "execution_count": null,
      "outputs": [
        {
          "output_type": "stream",
          "name": "stdout",
          "text": [
            "enter a stringMalayalam\n",
            "Palindrome\n"
          ]
        }
      ]
    },
    {
      "cell_type": "code",
      "source": [
        "# while loop\n",
        "\n",
        "i=10\n",
        "\n",
        "while i<15 :\n",
        "  print(i)\n",
        "  i=i+1\n",
        "\n",
        "print(\"end of while\")\n"
      ],
      "metadata": {
        "colab": {
          "base_uri": "https://localhost:8080/"
        },
        "id": "vDemr4iPHL7r",
        "outputId": "14f00b43-6b28-45a1-c1aa-2bb156265399"
      },
      "execution_count": null,
      "outputs": [
        {
          "output_type": "stream",
          "name": "stdout",
          "text": [
            "10\n",
            "11\n",
            "12\n",
            "13\n",
            "14\n",
            "end of while\n"
          ]
        }
      ]
    },
    {
      "cell_type": "code",
      "source": [
        "# Multiplication Table\n",
        "\n",
        "num = int(input(\"Enter a number\"))\n",
        "\n",
        "i=1\n",
        "\n",
        "while i<=10:\n",
        "  print(num , \"*\" , i , \"=\" ,i*num)\n",
        "  i=i+1"
      ],
      "metadata": {
        "colab": {
          "base_uri": "https://localhost:8080/"
        },
        "id": "XWuUhRS0IcWp",
        "outputId": "4543d7e8-6577-48b5-9880-163f70e9c814"
      },
      "execution_count": null,
      "outputs": [
        {
          "output_type": "stream",
          "name": "stdout",
          "text": [
            "Enter a number5\n",
            "5 * 1 = 5\n",
            "5 * 2 = 10\n",
            "5 * 3 = 15\n",
            "5 * 4 = 20\n",
            "5 * 5 = 25\n",
            "5 * 6 = 30\n",
            "5 * 7 = 35\n",
            "5 * 8 = 40\n",
            "5 * 9 = 45\n",
            "5 * 10 = 50\n"
          ]
        }
      ]
    },
    {
      "cell_type": "code",
      "source": [
        "# For loop\n",
        "\n",
        "s = \"2025John\"\n",
        "\n",
        "for i in s:\n",
        "  print(i)\n",
        "  print(type(i))"
      ],
      "metadata": {
        "colab": {
          "base_uri": "https://localhost:8080/"
        },
        "id": "Ey1wX3jUJ7mq",
        "outputId": "6ca2a43e-b759-49b4-e2e6-5a4ffb1a11a0"
      },
      "execution_count": null,
      "outputs": [
        {
          "output_type": "stream",
          "name": "stdout",
          "text": [
            "2\n",
            "<class 'str'>\n",
            "0\n",
            "<class 'str'>\n",
            "2\n",
            "<class 'str'>\n",
            "5\n",
            "<class 'str'>\n",
            "J\n",
            "<class 'str'>\n",
            "o\n",
            "<class 'str'>\n",
            "h\n",
            "<class 'str'>\n",
            "n\n",
            "<class 'str'>\n"
          ]
        }
      ]
    },
    {
      "cell_type": "code",
      "source": [
        "# range function\n",
        "\n",
        "for i in range(0,11,3):\n",
        "  print(i)"
      ],
      "metadata": {
        "colab": {
          "base_uri": "https://localhost:8080/"
        },
        "id": "JaUj4klx-g6O",
        "outputId": "79fe6c0b-035b-49ce-9d5b-82020845a2b5"
      },
      "execution_count": null,
      "outputs": [
        {
          "output_type": "stream",
          "name": "stdout",
          "text": [
            "0\n",
            "3\n",
            "6\n",
            "9\n"
          ]
        }
      ]
    },
    {
      "cell_type": "code",
      "source": [
        "s1 = \"NTT\"\n",
        "s2 = \"DATA\"\n",
        "s3 = s1+s2\n",
        "print(s3)\n",
        "s4 = s2*4\n",
        "print(s4)\n",
        "\n",
        "s2[0]=\"d\""
      ],
      "metadata": {
        "colab": {
          "base_uri": "https://localhost:8080/",
          "height": 211
        },
        "id": "dtp3Xd7H_2sw",
        "outputId": "56d5b2ab-9fbe-4bde-a30d-07c134109a1e"
      },
      "execution_count": null,
      "outputs": [
        {
          "output_type": "stream",
          "name": "stdout",
          "text": [
            "NTTDATA\n",
            "DATADATADATADATA\n"
          ]
        },
        {
          "output_type": "error",
          "ename": "TypeError",
          "evalue": "'str' object does not support item assignment",
          "traceback": [
            "\u001b[0;31m---------------------------------------------------------------------------\u001b[0m",
            "\u001b[0;31mTypeError\u001b[0m                                 Traceback (most recent call last)",
            "\u001b[0;32m<ipython-input-4-c5d6ee255318>\u001b[0m in \u001b[0;36m<cell line: 0>\u001b[0;34m()\u001b[0m\n\u001b[1;32m      6\u001b[0m \u001b[0mprint\u001b[0m\u001b[0;34m(\u001b[0m\u001b[0ms4\u001b[0m\u001b[0;34m)\u001b[0m\u001b[0;34m\u001b[0m\u001b[0;34m\u001b[0m\u001b[0m\n\u001b[1;32m      7\u001b[0m \u001b[0;34m\u001b[0m\u001b[0m\n\u001b[0;32m----> 8\u001b[0;31m \u001b[0ms2\u001b[0m\u001b[0;34m[\u001b[0m\u001b[0;36m0\u001b[0m\u001b[0;34m]\u001b[0m\u001b[0;34m=\u001b[0m\u001b[0;34m\"d\"\u001b[0m\u001b[0;34m\u001b[0m\u001b[0;34m\u001b[0m\u001b[0m\n\u001b[0m",
            "\u001b[0;31mTypeError\u001b[0m: 'str' object does not support item assignment"
          ]
        }
      ]
    },
    {
      "cell_type": "code",
      "source": [
        "# String deletion\n",
        "s1 = \"Ntt\"\n",
        "print(s1)\n",
        "del s1\n",
        "print(s1)"
      ],
      "metadata": {
        "colab": {
          "base_uri": "https://localhost:8080/",
          "height": 193
        },
        "id": "VxAO6NnAA0K-",
        "outputId": "8f00b7b9-88ed-4133-e7c2-b966ff2e00e1"
      },
      "execution_count": null,
      "outputs": [
        {
          "output_type": "stream",
          "name": "stdout",
          "text": [
            "Ntt\n"
          ]
        },
        {
          "output_type": "error",
          "ename": "NameError",
          "evalue": "name 's1' is not defined",
          "traceback": [
            "\u001b[0;31m---------------------------------------------------------------------------\u001b[0m",
            "\u001b[0;31mNameError\u001b[0m                                 Traceback (most recent call last)",
            "\u001b[0;32m<ipython-input-5-0cfdee396d20>\u001b[0m in \u001b[0;36m<cell line: 0>\u001b[0;34m()\u001b[0m\n\u001b[1;32m      3\u001b[0m \u001b[0;34m\u001b[0m\u001b[0m\n\u001b[1;32m      4\u001b[0m \u001b[0;32mdel\u001b[0m \u001b[0ms1\u001b[0m\u001b[0;34m\u001b[0m\u001b[0;34m\u001b[0m\u001b[0m\n\u001b[0;32m----> 5\u001b[0;31m \u001b[0mprint\u001b[0m\u001b[0;34m(\u001b[0m\u001b[0ms1\u001b[0m\u001b[0;34m)\u001b[0m\u001b[0;34m\u001b[0m\u001b[0;34m\u001b[0m\u001b[0m\n\u001b[0m",
            "\u001b[0;31mNameError\u001b[0m: name 's1' is not defined"
          ]
        }
      ]
    },
    {
      "cell_type": "code",
      "source": [
        "#  length of the string\n",
        "\n",
        "s = input(\"enter a string\")\n",
        "c=0\n",
        "for i in s:\n",
        "  c= c+1\n",
        "print(\"length =\", c)\n",
        "\n",
        "#use len function\n",
        "\n",
        "print(len(s))"
      ],
      "metadata": {
        "colab": {
          "base_uri": "https://localhost:8080/"
        },
        "id": "kOci68FIBmqc",
        "outputId": "ff884173-65da-4d0b-97e0-63a4020a0970"
      },
      "execution_count": null,
      "outputs": [
        {
          "output_type": "stream",
          "name": "stdout",
          "text": [
            "enter a stringNTT\n",
            "length = 3\n",
            "3\n"
          ]
        }
      ]
    },
    {
      "cell_type": "code",
      "source": [
        "# memebership operator\n",
        "\n",
        "if \"b\" not in \"apple\":\n",
        "  print(\"yes\")\n",
        "else:\n",
        "  print(\"no\")"
      ],
      "metadata": {
        "colab": {
          "base_uri": "https://localhost:8080/"
        },
        "id": "WYrBm_0XCTca",
        "outputId": "0fa2b1df-4fee-41db-9e33-87bcf5798687"
      },
      "execution_count": null,
      "outputs": [
        {
          "output_type": "stream",
          "name": "stdout",
          "text": [
            "yes\n"
          ]
        }
      ]
    },
    {
      "cell_type": "code",
      "source": [
        "# count method\n",
        "\n",
        "main_string = input(\"enter a string\")\n",
        "sub_string = input(\"enetr a sub string\")\n",
        "\n",
        "c = main_string.count(sub_string,0,3)\n",
        "\n",
        "print(c)"
      ],
      "metadata": {
        "colab": {
          "base_uri": "https://localhost:8080/"
        },
        "id": "A2hG56j8DT0L",
        "outputId": "fd8c5c97-ed74-4f6a-ce70-a32d4a85ddf9"
      },
      "execution_count": null,
      "outputs": [
        {
          "output_type": "stream",
          "name": "stdout",
          "text": [
            "enter a stringbangalore\n",
            "enetr a sub stringa\n",
            "1\n"
          ]
        }
      ]
    },
    {
      "cell_type": "code",
      "source": [
        "# startswith method\n",
        "\n",
        "mobno = input(\" enter you mob no with country code\")\n",
        "\n",
        "if mobno.startswith(\"+91\"):\n",
        "  print(\"india\")\n",
        "elif mobno.startswith(\"+1\"):\n",
        "  print(\"USA\")"
      ],
      "metadata": {
        "colab": {
          "base_uri": "https://localhost:8080/"
        },
        "id": "Pq5UcnqUFWiA",
        "outputId": "eba4aa26-2c90-4d1d-b9de-c6d6b21935ee"
      },
      "execution_count": null,
      "outputs": [
        {
          "output_type": "stream",
          "name": "stdout",
          "text": [
            " enter you mob no with country code+9188899933\n",
            "india\n"
          ]
        }
      ]
    },
    {
      "cell_type": "code",
      "source": [
        "# endswith\n",
        "url = input(\"enter a URL\")\n",
        "if url.endswith('.edu'):\n",
        "  print(\"educational website\")\n",
        "elif url.endswith('.com'):\n",
        "  print(\"commercial website\")\n"
      ],
      "metadata": {
        "colab": {
          "base_uri": "https://localhost:8080/"
        },
        "id": "Hjbx_TL0GAk2",
        "outputId": "8a96cd9e-f06e-4c47-bbf0-d04564e41096"
      },
      "execution_count": null,
      "outputs": [
        {
          "output_type": "stream",
          "name": "stdout",
          "text": [
            "enter a URLwww.amazon.com\n",
            "commercial website\n"
          ]
        }
      ]
    },
    {
      "cell_type": "code",
      "source": [
        "#lstrip method\n",
        "name = input(\"enter your name\")\n",
        "print(name)\n",
        "name = name.lstrip()\n",
        "print(name)\n"
      ],
      "metadata": {
        "colab": {
          "base_uri": "https://localhost:8080/"
        },
        "id": "lQOSceq6HIeB",
        "outputId": "63da5bf3-45ef-4644-9d17-bafc077ea836"
      },
      "execution_count": null,
      "outputs": [
        {
          "output_type": "stream",
          "name": "stdout",
          "text": [
            "enter your name     Balan\n",
            "     Balan\n",
            "Balan\n"
          ]
        }
      ]
    },
    {
      "cell_type": "code",
      "source": [],
      "metadata": {
        "id": "5QgrT_iCH1XP"
      },
      "execution_count": null,
      "outputs": []
    },
    {
      "cell_type": "code",
      "source": [
        "url = [\"httphttphttphhpp\",\"http://www.ajio.com\",\"http://www.cricbuzz.com\"]\n",
        "\n",
        "for i in url:\n",
        "  #i = i.lstrip(\"http://www.\")\n",
        "  i = i.lstrip(\"tph\")\n",
        "  print(i)"
      ],
      "metadata": {
        "colab": {
          "base_uri": "https://localhost:8080/"
        },
        "id": "RNgxz3-jHmjD",
        "outputId": "43a354fb-45e1-4ba7-ef51-98f0d0579507"
      },
      "execution_count": null,
      "outputs": [
        {
          "output_type": "stream",
          "name": "stdout",
          "text": [
            "\n",
            "://www.ajio.com\n",
            "://www.cricbuzz.com\n"
          ]
        }
      ]
    },
    {
      "cell_type": "code",
      "source": [],
      "metadata": {
        "id": "D4doK09eQRe1"
      },
      "execution_count": null,
      "outputs": []
    },
    {
      "cell_type": "code",
      "source": [
        "url = [\"http://www.myntra.com\",\"http://www.ajio.com\",\"http://www.cricbuzz.com\",\"http://www.amazon.com\"]\n",
        "\n",
        "for i in url:\n",
        "  i = i.rstrip('htp.cmo')\n",
        "  print(i)"
      ],
      "metadata": {
        "colab": {
          "base_uri": "https://localhost:8080/"
        },
        "id": "xEeO0bFkL7gc",
        "outputId": "5ab146bd-9dfb-4805-da5b-b6a31807a5c9"
      },
      "execution_count": null,
      "outputs": [
        {
          "output_type": "stream",
          "name": "stdout",
          "text": [
            "http://www.myntra\n",
            "http://www.aji\n",
            "http://www.cricbuzz\n",
            "http://www.amazon\n"
          ]
        }
      ]
    },
    {
      "cell_type": "code",
      "source": [
        "url = [\"http://www.myntra.com\",\"http://www.ajio.com\",\"http://www.cricbuzz.com\",\"http://www.amazon.com\"]\n",
        "\n",
        "for i in url:\n",
        "  i = i.strip('htp.com')\n",
        "  print(i)"
      ],
      "metadata": {
        "colab": {
          "base_uri": "https://localhost:8080/"
        },
        "id": "I0L7-PkaNwTK",
        "outputId": "02f3c00e-06ec-428e-8ceb-998f6e8d3003"
      },
      "execution_count": null,
      "outputs": [
        {
          "output_type": "stream",
          "name": "stdout",
          "text": [
            "://www.myntra\n",
            "://www.aji\n",
            "://www.cricbuzz\n",
            "://www.amazon\n"
          ]
        }
      ]
    },
    {
      "cell_type": "code",
      "source": [
        "print(ord('a'))\n",
        "print(ord('A'))\n",
        "print(ord('c'))\n",
        "print(ord('D'))"
      ],
      "metadata": {
        "colab": {
          "base_uri": "https://localhost:8080/"
        },
        "id": "0pMVh24aQSN9",
        "outputId": "a0f78df5-e405-495b-fe58-decdf716b10e"
      },
      "execution_count": null,
      "outputs": [
        {
          "output_type": "stream",
          "name": "stdout",
          "text": [
            "97\n",
            "65\n",
            "99\n",
            "68\n"
          ]
        }
      ]
    },
    {
      "cell_type": "code",
      "source": [
        "s1= \"AAnand\"\n",
        "s2= \"ABhijith\"\n",
        "\n",
        "if s1!=s2:\n",
        "  print(\"s1 is greater\")\n",
        "else:\n",
        "  print(\"s2 is greater\")\n"
      ],
      "metadata": {
        "colab": {
          "base_uri": "https://localhost:8080/"
        },
        "id": "3xrDO652Ql7Z",
        "outputId": "52133d51-7903-4c44-f63f-adc335540f05"
      },
      "execution_count": null,
      "outputs": [
        {
          "output_type": "stream",
          "name": "stdout",
          "text": [
            "s1 is greater\n"
          ]
        }
      ]
    },
    {
      "cell_type": "code",
      "source": [
        "# replace method\n",
        "\n",
        "s1 = \" I live in Mumbai , Mumbai is a beautiful place\"\n",
        "\n",
        "s1.replace(\"Mumbai\",\"Bangalore\",1)"
      ],
      "metadata": {
        "colab": {
          "base_uri": "https://localhost:8080/",
          "height": 36
        },
        "id": "urV4UpjrRWMC",
        "outputId": "851c10d8-a0e8-4023-c605-d34ed46b137d"
      },
      "execution_count": null,
      "outputs": [
        {
          "output_type": "execute_result",
          "data": {
            "text/plain": [
              "' I live in Bangalore , Mumbai is a beautiful place'"
            ],
            "application/vnd.google.colaboratory.intrinsic+json": {
              "type": "string"
            }
          },
          "metadata": {},
          "execution_count": 35
        }
      ]
    },
    {
      "cell_type": "code",
      "source": [
        "# find method\n",
        "\n",
        "s1 = \"I live in Mumbai , Mumbai is a beautiful place\"\n",
        "\n",
        "res =s1.find(\"Mumbai\")\n",
        "print(res)\n"
      ],
      "metadata": {
        "colab": {
          "base_uri": "https://localhost:8080/"
        },
        "id": "zxEY3pD3SSfX",
        "outputId": "8f98e72a-864b-4a5b-9437-fce06713139f"
      },
      "execution_count": null,
      "outputs": [
        {
          "output_type": "stream",
          "name": "stdout",
          "text": [
            "10\n"
          ]
        }
      ]
    },
    {
      "cell_type": "code",
      "source": [
        "# rfind method\n",
        "\n",
        "s1 = \"I live in Mumbai , Mumbai is a beautiful place\"\n",
        "\n",
        "res =s1.rfind(\"Mumbai\")\n",
        "print(res)\n"
      ],
      "metadata": {
        "colab": {
          "base_uri": "https://localhost:8080/"
        },
        "id": "UHiPPe_vTNZy",
        "outputId": "54b89dcf-b5ba-4ad9-8253-64b5e1648e9d"
      },
      "execution_count": null,
      "outputs": [
        {
          "output_type": "stream",
          "name": "stdout",
          "text": [
            "19\n"
          ]
        }
      ]
    },
    {
      "cell_type": "code",
      "source": [
        "# Split method\n",
        "s = \" I live in mumbai \"\n",
        "k = w.split(' ')\n",
        "w = \"india,usa,australia\"\n",
        "k = w.split(',')\n",
        "print(k)"
      ],
      "metadata": {
        "colab": {
          "base_uri": "https://localhost:8080/"
        },
        "id": "U7eKYLahUDK3",
        "outputId": "050faba8-b588-4c84-d064-82af3f2bba75"
      },
      "execution_count": null,
      "outputs": [
        {
          "output_type": "stream",
          "name": "stdout",
          "text": [
            "['india', 'usa', 'australia']\n"
          ]
        }
      ]
    },
    {
      "cell_type": "code",
      "source": [
        "#List\n",
        "\n",
        "l1 = [10,20,3.14,\"NTT Data\", 2+3j,[100,200,300]]\n",
        "print(l1)\n",
        "print(type(l1))\n",
        "\n",
        "print(l1[0], l1[-2])"
      ],
      "metadata": {
        "colab": {
          "base_uri": "https://localhost:8080/"
        },
        "id": "8B_yZtfWw29k",
        "outputId": "e29e7a9f-dab0-4074-80c9-127a524d5fb4"
      },
      "execution_count": null,
      "outputs": [
        {
          "output_type": "stream",
          "name": "stdout",
          "text": [
            "[10, 20, 3.14, 'NTT Data', (2+3j), [100, 200, 300]]\n",
            "<class 'list'>\n",
            "10 (2+3j)\n"
          ]
        }
      ]
    },
    {
      "cell_type": "code",
      "source": [
        "# Slicing in list\n",
        "\n",
        "l1 = [10,20,3.14,\"NTT Data\", 2+3j,[100,200,300]]\n",
        "\n",
        "print(l1[0:4])\n",
        "print(l1[0:4:2])\n",
        "print(l1[::])\n",
        "print(l1[: : -1])"
      ],
      "metadata": {
        "colab": {
          "base_uri": "https://localhost:8080/"
        },
        "id": "x8slVVf-yclO",
        "outputId": "a4aa1987-b4bb-4d0c-bb76-2aa6e3b5a7d4"
      },
      "execution_count": null,
      "outputs": [
        {
          "output_type": "stream",
          "name": "stdout",
          "text": [
            "[10, 20, 3.14, 'NTT Data']\n",
            "[10, 3.14]\n",
            "[10, 20, 3.14, 'NTT Data', (2+3j), [100, 200, 300]]\n",
            "[[100, 200, 300], (2+3j), 'NTT Data', 3.14, 20, 10]\n"
          ]
        }
      ]
    },
    {
      "cell_type": "code",
      "source": [
        "# concatenation of list\n",
        "\n",
        "l1 = [10,20,34]\n",
        "l2 = [50,60,70]\n",
        "l3 = l1 + l2\n",
        "print(l1)\n",
        "print(l2)\n",
        "print(l3)\n",
        "print(id(l1))\n",
        "print(id(l2))\n",
        "print(id(l3))\n"
      ],
      "metadata": {
        "colab": {
          "base_uri": "https://localhost:8080/"
        },
        "id": "8LL8t9efz-Lb",
        "outputId": "e78e53f9-5bf2-45fb-c61d-1c300151a012"
      },
      "execution_count": null,
      "outputs": [
        {
          "output_type": "stream",
          "name": "stdout",
          "text": [
            "[10, 20, 34]\n",
            "[50, 60, 70]\n",
            "[10, 20, 34, 50, 60, 70]\n",
            "138766873529984\n",
            "138766873531712\n",
            "138766873536192\n"
          ]
        }
      ]
    },
    {
      "cell_type": "code",
      "source": [
        "# multiplication of list\n",
        "\n",
        "l1 = [10,20,30]\n",
        "l2 = l1*3\n",
        "print(l2)\n",
        "print(l1*2)"
      ],
      "metadata": {
        "colab": {
          "base_uri": "https://localhost:8080/"
        },
        "id": "XHgPZQoW1Bd6",
        "outputId": "efbfb096-c12e-475b-aa1d-22444b3d95aa"
      },
      "execution_count": null,
      "outputs": [
        {
          "output_type": "stream",
          "name": "stdout",
          "text": [
            "[10, 20, 30, 10, 20, 30, 10, 20, 30]\n",
            "[10, 20, 30, 10, 20, 30]\n"
          ]
        }
      ]
    },
    {
      "cell_type": "code",
      "source": [
        "#iteration of list\n",
        "\n",
        "#l1 = [10,20,30,40,50]\n",
        "\n",
        "for i in [10,20,30,40,50]:\n",
        "  print(i+5)"
      ],
      "metadata": {
        "colab": {
          "base_uri": "https://localhost:8080/"
        },
        "id": "M2nXoWLu1akz",
        "outputId": "9844650a-f4ce-4da0-c410-f687ed705865"
      },
      "execution_count": null,
      "outputs": [
        {
          "output_type": "stream",
          "name": "stdout",
          "text": [
            "15\n",
            "25\n",
            "35\n",
            "45\n",
            "55\n"
          ]
        }
      ]
    },
    {
      "cell_type": "code",
      "source": [
        "# membership operator\n",
        "\n",
        "print(100 in [10,20,30,40])"
      ],
      "metadata": {
        "colab": {
          "base_uri": "https://localhost:8080/"
        },
        "id": "HYYQwO0G15sd",
        "outputId": "23aa0533-aa18-429e-9c9a-4932eff40737"
      },
      "execution_count": null,
      "outputs": [
        {
          "output_type": "stream",
          "name": "stdout",
          "text": [
            "False\n"
          ]
        }
      ]
    },
    {
      "cell_type": "code",
      "source": [
        "print(100 not in [100,20,30,40])"
      ],
      "metadata": {
        "colab": {
          "base_uri": "https://localhost:8080/"
        },
        "id": "jBnBREn82LHH",
        "outputId": "ff3c3b40-5421-41b3-8035-e7097ed05c65"
      },
      "execution_count": null,
      "outputs": [
        {
          "output_type": "stream",
          "name": "stdout",
          "text": [
            "False\n"
          ]
        }
      ]
    },
    {
      "cell_type": "code",
      "source": [
        "# deletion of a list\n",
        "\n",
        "l1 = [10,20,30,40]\n",
        "\n",
        "print(l1)\n",
        "\n",
        "del l1\n",
        "print(l1)"
      ],
      "metadata": {
        "colab": {
          "base_uri": "https://localhost:8080/",
          "height": 201
        },
        "id": "X--a1BkW2crN",
        "outputId": "4387823e-8b09-425a-800c-4a6970291eef"
      },
      "execution_count": null,
      "outputs": [
        {
          "output_type": "stream",
          "name": "stdout",
          "text": [
            "[10, 20, 30, 40]\n"
          ]
        },
        {
          "output_type": "error",
          "ename": "NameError",
          "evalue": "name 'l1' is not defined",
          "traceback": [
            "\u001b[0;31m---------------------------------------------------------------------------\u001b[0m",
            "\u001b[0;31mNameError\u001b[0m                                 Traceback (most recent call last)",
            "\u001b[0;32m<ipython-input-22-b8eebb281a22>\u001b[0m in \u001b[0;36m<cell line: 0>\u001b[0;34m()\u001b[0m\n\u001b[1;32m      6\u001b[0m \u001b[0;34m\u001b[0m\u001b[0m\n\u001b[1;32m      7\u001b[0m \u001b[0;32mdel\u001b[0m \u001b[0ml1\u001b[0m\u001b[0;34m\u001b[0m\u001b[0;34m\u001b[0m\u001b[0m\n\u001b[0;32m----> 8\u001b[0;31m \u001b[0mprint\u001b[0m\u001b[0;34m(\u001b[0m\u001b[0ml1\u001b[0m\u001b[0;34m)\u001b[0m\u001b[0;34m\u001b[0m\u001b[0;34m\u001b[0m\u001b[0m\n\u001b[0m",
            "\u001b[0;31mNameError\u001b[0m: name 'l1' is not defined"
          ]
        }
      ]
    },
    {
      "cell_type": "code",
      "source": [
        "# inbuilt functions\n",
        "# max()\n",
        "\n",
        "l1 = [10,200,3,500,80]\n",
        "print(max(l1))\n",
        "\n",
        "l2 = [\"aaa\",\"bbbb\",\"ccc\"]\n",
        "print(max(l2))\n",
        "\n",
        "l3= [10,20,\"nttdata\"]\n",
        "#print(max(l3)) error\n",
        "\n",
        "l4 = [\"aaa\",\"bbbb\",\"cccvsddqf\"]\n",
        "print(max(l4, key =len ))\n",
        "\n",
        "l5= []\n",
        "print(max(l5,default=10))\n"
      ],
      "metadata": {
        "colab": {
          "base_uri": "https://localhost:8080/"
        },
        "id": "fCnSFZ0_30Fd",
        "outputId": "68d2f6a1-ee4b-49ec-fca2-e76ff021d5e1"
      },
      "execution_count": null,
      "outputs": [
        {
          "output_type": "stream",
          "name": "stdout",
          "text": [
            "500\n",
            "ccc\n",
            "cccvsddqf\n",
            "10\n"
          ]
        }
      ]
    },
    {
      "cell_type": "code",
      "source": [
        "l1 = [10,20,30,40]\n",
        "\n",
        "l1.append(50)\n",
        "l1.append(60)\n",
        "l1.append(70)\n",
        "l1.append(5)\n",
        "l1.append([1,2,3])\n",
        "l1.append(\"NTT\")\n",
        "print(l1)"
      ],
      "metadata": {
        "colab": {
          "base_uri": "https://localhost:8080/"
        },
        "id": "ix62r0fH6mrh",
        "outputId": "506e789a-e1d9-493a-c734-e5f45de4304a"
      },
      "execution_count": null,
      "outputs": [
        {
          "output_type": "stream",
          "name": "stdout",
          "text": [
            "[10, 20, 30, 40, 50, 60, 70, 5, [1, 2, 3], 'NTT']\n"
          ]
        }
      ]
    },
    {
      "cell_type": "code",
      "source": [
        "list = []\n",
        "for i in range(6):\n",
        "  num = int(input(\"enter a number\"))\n",
        "  list.append(num)\n",
        "print(list)"
      ],
      "metadata": {
        "colab": {
          "base_uri": "https://localhost:8080/"
        },
        "id": "BFRDbmNW8sdZ",
        "outputId": "498ed312-8e81-45f6-c76d-95e7e7f08850"
      },
      "execution_count": null,
      "outputs": [
        {
          "output_type": "stream",
          "name": "stdout",
          "text": [
            "enter a number10\n",
            "enter a number20\n",
            "enter a number0\n",
            "enter a number0\n",
            "enter a number50\n",
            "enter a number60\n",
            "[10, 20, 0, 0, 50, 60]\n"
          ]
        }
      ]
    },
    {
      "cell_type": "code",
      "source": [
        "# extend method\n",
        "\n",
        "l1 =[10,20,30]\n",
        "l2= [40,50,60]\n",
        "\n",
        "l1.extend([100,200,300,400])\n",
        "\n",
        "print(l1)"
      ],
      "metadata": {
        "colab": {
          "base_uri": "https://localhost:8080/"
        },
        "id": "iQkdpZK69fmj",
        "outputId": "70af482b-f904-4afa-dd1d-cdd43de748b2"
      },
      "execution_count": null,
      "outputs": [
        {
          "output_type": "stream",
          "name": "stdout",
          "text": [
            "[10, 20, 30, 100, 200, 300, 400]\n"
          ]
        }
      ]
    },
    {
      "cell_type": "code",
      "source": [
        "# insert method\n",
        "\n",
        "l1=[10,20,30,40,50,60]\n",
        "\n",
        "l1.insert(0,1000)\n",
        "l1.insert(3,2000)\n",
        "\n",
        "print(l1)"
      ],
      "metadata": {
        "colab": {
          "base_uri": "https://localhost:8080/"
        },
        "id": "BwS6ygJJ-O2j",
        "outputId": "3c48b671-f14d-402f-aa1f-393c89701756"
      },
      "execution_count": null,
      "outputs": [
        {
          "output_type": "stream",
          "name": "stdout",
          "text": [
            "[1000, 10, 20, 2000, 30, 40, 50, 60]\n"
          ]
        }
      ]
    },
    {
      "cell_type": "code",
      "source": [
        "# remove method\n",
        "\n",
        "l1 = [10,10,20,30,40]\n",
        "l1.remove(10)\n",
        "print(l1)"
      ],
      "metadata": {
        "colab": {
          "base_uri": "https://localhost:8080/"
        },
        "id": "29X6jMi3_EBU",
        "outputId": "442c40c2-61de-4988-f18a-2248c2ce99cd"
      },
      "execution_count": null,
      "outputs": [
        {
          "output_type": "stream",
          "name": "stdout",
          "text": [
            "[10, 20, 30, 40]\n"
          ]
        }
      ]
    },
    {
      "cell_type": "code",
      "source": [
        "# pop method\n",
        "\n",
        "l1= [10,20,30,40]\n",
        "res = l1.pop()\n",
        "print(res)\n",
        "print(l1)\n",
        "\n",
        "\n",
        "res = l1.pop(2)\n",
        "print(res)\n",
        "print(l1)\n"
      ],
      "metadata": {
        "colab": {
          "base_uri": "https://localhost:8080/"
        },
        "id": "frM6Hu62_wd5",
        "outputId": "7007ce4c-5b01-4d08-f8e9-741d24949cf9"
      },
      "execution_count": null,
      "outputs": [
        {
          "output_type": "stream",
          "name": "stdout",
          "text": [
            "40\n",
            "[10, 20, 30]\n",
            "30\n",
            "[10, 20]\n"
          ]
        }
      ]
    },
    {
      "cell_type": "code",
      "source": [
        "s2 = [10,20,30,40,50]\n",
        "removed_element = s2.pop()\n",
        "s2.pop(2)\n",
        "print (removed_element)\n",
        "print (s2)\n"
      ],
      "metadata": {
        "colab": {
          "base_uri": "https://localhost:8080/"
        },
        "id": "4pDsRdNfAnMk",
        "outputId": "46d85e2a-cfaf-4e4b-a6bd-c849525770fc"
      },
      "execution_count": null,
      "outputs": [
        {
          "output_type": "stream",
          "name": "stdout",
          "text": [
            "50\n",
            "[10, 20, 40]\n"
          ]
        }
      ]
    },
    {
      "cell_type": "code",
      "source": [
        "# clear method\n",
        "\n",
        "l1 = [10,20,30]\n",
        "print(l1)\n",
        "l1.clear()\n",
        "print(l1)"
      ],
      "metadata": {
        "colab": {
          "base_uri": "https://localhost:8080/"
        },
        "id": "tWmqDWfZA8uO",
        "outputId": "4d292a81-ab70-4266-c403-06094d913b91"
      },
      "execution_count": null,
      "outputs": [
        {
          "output_type": "stream",
          "name": "stdout",
          "text": [
            "[10, 20, 30]\n",
            "[]\n"
          ]
        }
      ]
    },
    {
      "cell_type": "code",
      "source": [
        "# progrm to remove duplicate elements\n",
        "\n",
        "l1= [10,20,30,10,20,45]\n",
        "ulist=[] # unique list\n",
        "\n",
        "for i in l1:\n",
        "  if i not in ulist:\n",
        "    ulist.append(i)\n",
        "\n",
        "\n",
        "print(l1)\n",
        "print(ulist)"
      ],
      "metadata": {
        "colab": {
          "base_uri": "https://localhost:8080/"
        },
        "id": "FjTmAeodDvkj",
        "outputId": "02ad77e1-d0fc-4db5-ee64-ac21efb65708"
      },
      "execution_count": null,
      "outputs": [
        {
          "output_type": "stream",
          "name": "stdout",
          "text": [
            "[10, 20, 30, 10, 20, 45]\n",
            "[10, 20, 30, 45]\n"
          ]
        }
      ]
    },
    {
      "cell_type": "code",
      "source": [
        "# list() method\n",
        "\n",
        "l1 = list()\n",
        "print(l1)\n",
        "print(type(l1))"
      ],
      "metadata": {
        "colab": {
          "base_uri": "https://localhost:8080/"
        },
        "id": "YmsSuIhYC2m5",
        "outputId": "d67b91ff-281e-4db6-a354-2f5d0fa1a6a0"
      },
      "execution_count": null,
      "outputs": [
        {
          "output_type": "stream",
          "name": "stdout",
          "text": [
            "[]\n",
            "<class 'list'>\n"
          ]
        }
      ]
    },
    {
      "cell_type": "code",
      "source": [
        "s = \"NTT DATA\"\n",
        "l2 = list(s)\n",
        "print(l2)"
      ],
      "metadata": {
        "colab": {
          "base_uri": "https://localhost:8080/"
        },
        "id": "fZ3LaudXDP4I",
        "outputId": "7410884d-7b78-40bd-8ced-eea5a7a71820"
      },
      "execution_count": null,
      "outputs": [
        {
          "output_type": "stream",
          "name": "stdout",
          "text": [
            "['N', 'T', 'T', ' ', 'D', 'A', 'T', 'A']\n"
          ]
        }
      ]
    },
    {
      "cell_type": "code",
      "source": [
        "l3 = list(range(3,9))\n",
        "print(l3)"
      ],
      "metadata": {
        "colab": {
          "base_uri": "https://localhost:8080/"
        },
        "id": "UnguWilmDmsp",
        "outputId": "858ba38c-281d-433d-cec0-d2203d91f16b"
      },
      "execution_count": null,
      "outputs": [
        {
          "output_type": "stream",
          "name": "stdout",
          "text": [
            "[3, 4, 5, 6, 7, 8]\n"
          ]
        }
      ]
    },
    {
      "cell_type": "code",
      "source": [
        "# print the occurance of the elements\n",
        "\n",
        "l1 = [1,1,1,2,2,3,3,3,3,3,3,4,4,5,6]\n",
        "l2 = []\n",
        "l3 = []\n",
        "for num in l1:\n",
        "  if num not in l2:\n",
        "    l2.append(num)\n",
        "    l3.append(l1.count(num))\n",
        "\n",
        "print(l2)\n",
        "print(l3)"
      ],
      "metadata": {
        "colab": {
          "base_uri": "https://localhost:8080/"
        },
        "id": "5ftg7QjcG2Oj",
        "outputId": "aa333d95-49d1-418e-99f3-6e0d123dbf24"
      },
      "execution_count": null,
      "outputs": [
        {
          "output_type": "stream",
          "name": "stdout",
          "text": [
            "[1, 2, 3, 4, 5, 6]\n",
            "[3, 2, 6, 2, 1, 1]\n"
          ]
        }
      ]
    },
    {
      "cell_type": "code",
      "source": [
        "l1 = [1,1,1,2,2,3,3,3,3,3,3,4,4,5,6]\n",
        "\n",
        "uele = []\n",
        "count= []\n",
        "\n",
        "for i in l1:\n",
        "  if i not in uele:\n",
        "    uele.append(i)\n",
        "    count.append(1)\n",
        "  else:\n",
        "    index = uele.index(i)\n",
        "    count[index] = count[index] + 1\n",
        "\n",
        "print(uele)\n",
        "print(count)"
      ],
      "metadata": {
        "colab": {
          "base_uri": "https://localhost:8080/"
        },
        "id": "puWFwQpiHTra",
        "outputId": "f8ad9c13-0350-4e59-a88b-f5a320efaab6"
      },
      "execution_count": null,
      "outputs": [
        {
          "output_type": "stream",
          "name": "stdout",
          "text": [
            "[1, 2, 3, 4, 5, 6]\n",
            "[3, 2, 6, 2, 1, 1]\n"
          ]
        }
      ]
    },
    {
      "cell_type": "code",
      "source": [
        "# Tuples\n",
        "t1 = (1,2,3,4,3.1,[4,5,6],(7,7,8,))\n",
        "print(t1)\n",
        "print(type(t1))"
      ],
      "metadata": {
        "colab": {
          "base_uri": "https://localhost:8080/"
        },
        "id": "-JJegpYmJCoX",
        "outputId": "a3413cee-7fe6-4079-c1c7-80a94266fb46"
      },
      "execution_count": null,
      "outputs": [
        {
          "output_type": "stream",
          "name": "stdout",
          "text": [
            "(1, 2, 3, 4, 3.1, [4, 5, 6], (7, 7, 8))\n",
            "<class 'tuple'>\n"
          ]
        }
      ]
    },
    {
      "cell_type": "code",
      "source": [
        "# tuple() method\n",
        "\n",
        "s = \"Ntt Data\"\n",
        "t2 = tuple(s)\n",
        "print(t2)\n",
        "\n",
        "l1 = [10,20,30]\n",
        "\n",
        "t3 = tuple(l1)\n",
        "print(t3)\n",
        "\n",
        "l5 = list(t3)\n",
        "print(l5)\n"
      ],
      "metadata": {
        "colab": {
          "base_uri": "https://localhost:8080/"
        },
        "id": "CRK9wCOdJd2F",
        "outputId": "3a8e33c2-3466-4ce1-efd5-c6654945bf0a"
      },
      "execution_count": null,
      "outputs": [
        {
          "output_type": "stream",
          "name": "stdout",
          "text": [
            "('N', 't', 't', ' ', 'D', 'a', 't', 'a')\n",
            "(10, 20, 30)\n",
            "[10, 20, 30]\n"
          ]
        }
      ]
    },
    {
      "cell_type": "code",
      "source": [
        "# tuple with a single element\n",
        "\n",
        "t5 = (6)\n",
        "print(t5)\n",
        "print(type(t5))"
      ],
      "metadata": {
        "colab": {
          "base_uri": "https://localhost:8080/"
        },
        "id": "WLDSUIShKRoA",
        "outputId": "e12be487-a7b2-486a-aa58-ac7cce90341c"
      },
      "execution_count": null,
      "outputs": [
        {
          "output_type": "stream",
          "name": "stdout",
          "text": [
            "6\n",
            "<class 'int'>\n"
          ]
        }
      ]
    },
    {
      "cell_type": "code",
      "source": [
        "# tuple with a single element\n",
        "\n",
        "t5 = (6,)\n",
        "print(t5)\n",
        "print(type(t5))"
      ],
      "metadata": {
        "colab": {
          "base_uri": "https://localhost:8080/"
        },
        "id": "H808w7zpLES8",
        "outputId": "d950ee9b-7bdf-4f67-96e7-b3b630a22a05"
      },
      "execution_count": null,
      "outputs": [
        {
          "output_type": "stream",
          "name": "stdout",
          "text": [
            "(6,)\n",
            "<class 'tuple'>\n"
          ]
        }
      ]
    },
    {
      "cell_type": "code",
      "source": [
        "# tuple concatenation\n",
        "\n",
        "t1 = (10,20,30)\n",
        "t2 = (40,50,60)\n",
        "t3 = t1+t2\n",
        "print(t3)\n",
        "print(type(t3))"
      ],
      "metadata": {
        "colab": {
          "base_uri": "https://localhost:8080/"
        },
        "id": "79XcNrVzL0jz",
        "outputId": "94075e36-f97f-4b9e-e4e6-89dbaca9401b"
      },
      "execution_count": null,
      "outputs": [
        {
          "output_type": "stream",
          "name": "stdout",
          "text": [
            "(10, 20, 30, 40, 50, 60)\n",
            "<class 'tuple'>\n"
          ]
        }
      ]
    },
    {
      "cell_type": "code",
      "source": [
        "t1 = (10,20,30)\n",
        "\n",
        "t2 = t1*3\n",
        "\n",
        "print(t2)\n",
        "print(type(t2))"
      ],
      "metadata": {
        "colab": {
          "base_uri": "https://localhost:8080/"
        },
        "id": "KRyAuGIEMF6q",
        "outputId": "1811402a-e83d-4f78-834b-29481bbad7b3"
      },
      "execution_count": null,
      "outputs": [
        {
          "output_type": "stream",
          "name": "stdout",
          "text": [
            "(10, 20, 30, 10, 20, 30, 10, 20, 30)\n",
            "<class 'tuple'>\n"
          ]
        }
      ]
    },
    {
      "cell_type": "code",
      "source": [
        "# iterating tuple\n",
        "\n",
        "t1 = (10,20,30)\n",
        "\n",
        "for i in t1:\n",
        "  print(i)"
      ],
      "metadata": {
        "colab": {
          "base_uri": "https://localhost:8080/"
        },
        "id": "Tr2sz4gLMUOt",
        "outputId": "e4a0cdbe-95b5-4aa4-c42e-76dec9d935fb"
      },
      "execution_count": null,
      "outputs": [
        {
          "output_type": "stream",
          "name": "stdout",
          "text": [
            "10\n",
            "20\n",
            "30\n"
          ]
        }
      ]
    },
    {
      "cell_type": "code",
      "source": [
        "t1 = (1,2,3,4,3.1,[4,5,6],(7,7,8,))\n",
        "print(t1[4:])"
      ],
      "metadata": {
        "colab": {
          "base_uri": "https://localhost:8080/"
        },
        "id": "jmdZ2cEsMl1g",
        "outputId": "19b1943e-b443-4cac-ed09-4e0fd07931df"
      },
      "execution_count": null,
      "outputs": [
        {
          "output_type": "stream",
          "name": "stdout",
          "text": [
            "(3.1, [4, 5, 6], (7, 7, 8))\n"
          ]
        }
      ]
    },
    {
      "cell_type": "code",
      "source": [
        "# Dict\n",
        "\n",
        "d1 = {\"name\": \"Ram\", \"age\": 30 , \"city\": \"Blr\"}\n",
        "print(d1)\n",
        "print(type(d1))\n",
        "print(d1.keys())\n",
        "print(d1.values())\n",
        "\n",
        "print(d1.items())"
      ],
      "metadata": {
        "colab": {
          "base_uri": "https://localhost:8080/"
        },
        "id": "AKI54nC6QHEY",
        "outputId": "12da47ef-bd0c-4845-ac99-c223d3f8f200"
      },
      "execution_count": null,
      "outputs": [
        {
          "output_type": "stream",
          "name": "stdout",
          "text": [
            "{'name': 'Ram', 'age': 30, 'city': 'Blr'}\n",
            "<class 'dict'>\n",
            "dict_keys(['name', 'age', 'city'])\n",
            "dict_values(['Ram', 30, 'Blr'])\n",
            "dict_items([('name', 'Ram'), ('age', 30), ('city', 'Blr')])\n"
          ]
        }
      ]
    },
    {
      "cell_type": "code",
      "source": [
        "# Create a dict\n",
        "\n",
        "d1 = {2 : 100,\n",
        "      4: 200,\n",
        "      6: 300,\n",
        "      8: 400,\n",
        "      10: 500}\n",
        "print(d1)\n",
        "print(type(d1))\n",
        "\n",
        "print(d1[2])\n",
        "print(d1[10])"
      ],
      "metadata": {
        "colab": {
          "base_uri": "https://localhost:8080/"
        },
        "id": "wN6LOJkValnZ",
        "outputId": "02d884c0-4034-4631-f2f6-7fbd6cd9977a"
      },
      "execution_count": null,
      "outputs": [
        {
          "output_type": "stream",
          "name": "stdout",
          "text": [
            "{2: 100, 4: 200, 6: 300, 8: 400, 10: 500}\n",
            "<class 'dict'>\n",
            "100\n",
            "500\n"
          ]
        }
      ]
    },
    {
      "cell_type": "code",
      "source": [
        "d2 = {'aa':100,\n",
        "      'bb':200,\n",
        "      'cc':300}\n",
        "\n",
        "print(d2)\n",
        "\n",
        "print(d2['cc'])"
      ],
      "metadata": {
        "colab": {
          "base_uri": "https://localhost:8080/"
        },
        "id": "8UbVesYnbrqf",
        "outputId": "77cde262-7c9f-4a32-a15f-68a888a1fd93"
      },
      "execution_count": null,
      "outputs": [
        {
          "output_type": "stream",
          "name": "stdout",
          "text": [
            "{'aa': 100, 'bb': 200, 'cc': 300}\n",
            "300\n"
          ]
        }
      ]
    },
    {
      "cell_type": "code",
      "source": [
        "d3 = {3 : [1,2,3],\n",
        "      6: (4,5,6),\n",
        "      9: \"NTT\"}\n",
        "\n",
        "print(d3)\n",
        "print(d3[3])\n",
        "print(d3[6])\n",
        "print(d3[9])"
      ],
      "metadata": {
        "colab": {
          "base_uri": "https://localhost:8080/"
        },
        "id": "p1VEaZpUcR9a",
        "outputId": "976cd8a3-57f6-40ff-e9a1-44ef1a92d5a6"
      },
      "execution_count": null,
      "outputs": [
        {
          "output_type": "stream",
          "name": "stdout",
          "text": [
            "{3: [1, 2, 3], 6: (4, 5, 6), 9: 'NTT'}\n",
            "[1, 2, 3]\n",
            "(4, 5, 6)\n",
            "NTT\n"
          ]
        }
      ]
    },
    {
      "cell_type": "code",
      "source": [
        "d4 = {(1,2) : 100,\n",
        "      (3,4): 200,\n",
        "      (5,6): 300}\n",
        "\n",
        "print(d4)\n",
        "print(d4[(1,2)])"
      ],
      "metadata": {
        "colab": {
          "base_uri": "https://localhost:8080/"
        },
        "id": "1zwHdvyKdKLS",
        "outputId": "c19e785f-e597-48e0-d8ce-59bf48c2c5b9"
      },
      "execution_count": null,
      "outputs": [
        {
          "output_type": "stream",
          "name": "stdout",
          "text": [
            "{(1, 2): 100, (3, 4): 200, (5, 6): 300}\n",
            "100\n"
          ]
        }
      ]
    },
    {
      "cell_type": "code",
      "source": [
        "d4 = {3 : 100,\n",
        "      (3,4): 200,\n",
        "      \"hi\": 300}\n",
        "\n",
        "print(d4)\n",
        "print(d4[\"hi\"])"
      ],
      "metadata": {
        "colab": {
          "base_uri": "https://localhost:8080/"
        },
        "id": "TUS8Ew1hdd_w",
        "outputId": "091bc593-1c20-4d70-dbe0-36a404aec71f"
      },
      "execution_count": null,
      "outputs": [
        {
          "output_type": "stream",
          "name": "stdout",
          "text": [
            "{3: 100, (3, 4): 200, 'hi': 300}\n",
            "300\n"
          ]
        }
      ]
    },
    {
      "cell_type": "code",
      "source": [
        "# Iterating through a Dict\n",
        "\n",
        "#iterate through  keys\n",
        "\n",
        "d1 = {2 : 100,\n",
        "      4: 200,\n",
        "      6: 300,\n",
        "      8: 400,\n",
        "      10: 500}\n",
        "\n",
        "for key1 in d1:\n",
        "  print(key1)"
      ],
      "metadata": {
        "colab": {
          "base_uri": "https://localhost:8080/"
        },
        "id": "OBj0pr9YeHa1",
        "outputId": "b939f31e-a867-4ba9-c845-63bed3f5523a"
      },
      "execution_count": null,
      "outputs": [
        {
          "output_type": "stream",
          "name": "stdout",
          "text": [
            "2\n",
            "4\n",
            "6\n",
            "8\n",
            "10\n"
          ]
        }
      ]
    },
    {
      "cell_type": "code",
      "source": [
        "# iterate through values\n",
        "d1 = {2 : 100,\n",
        "      4: 200,\n",
        "      6: 300,\n",
        "      8: 400,\n",
        "      10: 500}\n",
        "\n",
        "for value in d1.values():\n",
        "  print(value)"
      ],
      "metadata": {
        "colab": {
          "base_uri": "https://localhost:8080/"
        },
        "id": "_xl3ZRQMepWq",
        "outputId": "496bdcec-d57b-4924-b8ed-982b0eff6e7d"
      },
      "execution_count": null,
      "outputs": [
        {
          "output_type": "stream",
          "name": "stdout",
          "text": [
            "100\n",
            "200\n",
            "300\n",
            "400\n",
            "500\n"
          ]
        }
      ]
    },
    {
      "cell_type": "code",
      "source": [
        "# iterate through items.... item means (key,value)\n",
        "d1 = {2 : 100,\n",
        "      4: 200,\n",
        "      6: 300,\n",
        "      8: 400,\n",
        "      10: 500}\n",
        "\n",
        "for item in d1.items():\n",
        "  print(item)"
      ],
      "metadata": {
        "colab": {
          "base_uri": "https://localhost:8080/"
        },
        "id": "DF64qs_5fP73",
        "outputId": "58a0eb78-b730-4ac8-a227-302b4f95ba1b"
      },
      "execution_count": null,
      "outputs": [
        {
          "output_type": "stream",
          "name": "stdout",
          "text": [
            "(2, 100)\n",
            "(4, 200)\n",
            "(6, 300)\n",
            "(8, 400)\n",
            "(10, 500)\n"
          ]
        }
      ]
    },
    {
      "cell_type": "code",
      "source": [
        "d1 = {2 : 100,\n",
        "      4: 200,\n",
        "      6: 300,\n",
        "      8: 400,\n",
        "      10: 500}\n",
        "\n",
        "for k in d1:\n",
        "  print(d1[k])"
      ],
      "metadata": {
        "colab": {
          "base_uri": "https://localhost:8080/"
        },
        "id": "aR33K3Fmfsyc",
        "outputId": "73fb0330-2aab-430e-cdfe-cf97bf644f76"
      },
      "execution_count": null,
      "outputs": [
        {
          "output_type": "stream",
          "name": "stdout",
          "text": [
            "100\n",
            "200\n",
            "300\n",
            "400\n",
            "500\n"
          ]
        }
      ]
    },
    {
      "cell_type": "code",
      "source": [
        "d1 = {2:100, 4:200, 6:300, 8:400}\n",
        "\n",
        "for xx,yy in d1.items():\n",
        "  print(xx)\n",
        "  print(yy)"
      ],
      "metadata": {
        "colab": {
          "base_uri": "https://localhost:8080/"
        },
        "id": "oSZoaJHagQh2",
        "outputId": "010d68f6-76da-4bb5-b5b4-6af4139cddfa"
      },
      "execution_count": null,
      "outputs": [
        {
          "output_type": "stream",
          "name": "stdout",
          "text": [
            "2\n",
            "100\n",
            "4\n",
            "200\n",
            "6\n",
            "300\n",
            "8\n",
            "400\n"
          ]
        }
      ]
    },
    {
      "cell_type": "code",
      "source": [
        "# memebership opeartor\n",
        "d1 = {2:100, 4:200, 6:300, 8:400}\n",
        "if 2 in d1:\n",
        "  print(\"2 is present\")\n",
        "\n",
        "if 10 not in d1:\n",
        "  print(\"10 is not present\")"
      ],
      "metadata": {
        "colab": {
          "base_uri": "https://localhost:8080/"
        },
        "id": "NWHErEd9hDHF",
        "outputId": "81c10de3-5149-47d1-ad5e-b22a529c39fe"
      },
      "execution_count": null,
      "outputs": [
        {
          "output_type": "stream",
          "name": "stdout",
          "text": [
            "2 is present\n",
            "10 is not present\n"
          ]
        }
      ]
    },
    {
      "cell_type": "code",
      "source": [
        "#  inbuilt methods\n",
        "\n",
        "# Keys()\n",
        "d1 = {2:100, 4:200, 6:300, 8:400}\n",
        "\n",
        "keys = d1.keys()\n",
        "print(keys)\n",
        "print(type(keys))\n",
        "\n",
        "l1 = list(keys)    #list()\n",
        "print(l1)\n",
        "print(type(l1))\n"
      ],
      "metadata": {
        "colab": {
          "base_uri": "https://localhost:8080/"
        },
        "id": "cgnU0FaAhgro",
        "outputId": "422b40e0-cbc1-4094-c0d7-c7e98cb8a377"
      },
      "execution_count": null,
      "outputs": [
        {
          "output_type": "stream",
          "name": "stdout",
          "text": [
            "dict_keys([2, 4, 6, 8])\n",
            "<class 'dict_keys'>\n",
            "[2, 4, 6, 8]\n",
            "<class 'list'>\n"
          ]
        }
      ]
    },
    {
      "cell_type": "code",
      "source": [
        "# values()\n",
        "\n",
        "d1 = {2:100, 4:200, 6:300, 8:400}\n",
        "\n",
        "val = d1.values()\n",
        "print(val)"
      ],
      "metadata": {
        "colab": {
          "base_uri": "https://localhost:8080/"
        },
        "id": "jnp7u8RkiXbf",
        "outputId": "e05bcecd-319b-4ee6-c3ef-8bd034271638"
      },
      "execution_count": null,
      "outputs": [
        {
          "output_type": "stream",
          "name": "stdout",
          "text": [
            "dict_values([100, 200, 300, 400])\n"
          ]
        }
      ]
    },
    {
      "cell_type": "code",
      "source": [
        "#iteams\n",
        "d1 = {2:100, 4:200, 6:300, 8:400}\n",
        "it = d1.items()\n",
        "print(it)\n"
      ],
      "metadata": {
        "colab": {
          "base_uri": "https://localhost:8080/"
        },
        "id": "BxRH2EpxjJg8",
        "outputId": "be9ae756-910f-4db2-d886-00f10665fa89"
      },
      "execution_count": null,
      "outputs": [
        {
          "output_type": "stream",
          "name": "stdout",
          "text": [
            "dict_items([(2, 100), (4, 200), (6, 300), (8, 400)])\n"
          ]
        }
      ]
    },
    {
      "cell_type": "code",
      "source": [
        "#get\n",
        "d1 = {2:100, 4:200, 6:300, 8:400}\n",
        "\n",
        "val = d1.get(4)\n",
        "print(val)\n",
        "\n",
        "val = d1.get(10,-100)  # -100 is the default value\n",
        "print(val)"
      ],
      "metadata": {
        "colab": {
          "base_uri": "https://localhost:8080/"
        },
        "id": "X8GKVkFtjXNk",
        "outputId": "98cfc0f1-ea05-431d-8ee4-8838ad0037d2"
      },
      "execution_count": null,
      "outputs": [
        {
          "output_type": "stream",
          "name": "stdout",
          "text": [
            "200\n",
            "-100\n"
          ]
        }
      ]
    },
    {
      "cell_type": "code",
      "source": [
        "#pop()\n",
        "d1 = {2:100, 4:200, 6:300, 8:400}\n",
        "\n",
        "val = d1.pop(4)\n",
        "print(val)\n",
        "print(d1)\n",
        "\n",
        "val2 = d1.pop(10,1000)  # 1000  is the default value\n",
        "print(val2)\n",
        "print(d1)\n"
      ],
      "metadata": {
        "colab": {
          "base_uri": "https://localhost:8080/"
        },
        "id": "cmbZWPCxkCG3",
        "outputId": "a804b558-e265-409f-b9bd-4ed5c3ecd463"
      },
      "execution_count": null,
      "outputs": [
        {
          "output_type": "stream",
          "name": "stdout",
          "text": [
            "200\n",
            "{2: 100, 6: 300, 8: 400}\n",
            "[1, 2, 3]\n",
            "{2: 100, 6: 300, 8: 400}\n"
          ]
        }
      ]
    },
    {
      "cell_type": "code",
      "source": [
        "#update method\n",
        "d1 = {2:100, 4:200, 6:300, 8:400}\n",
        "d2 = {10:1000, 20:2000}\n",
        "\n",
        "d1.update(d2)\n",
        "print(d1)\n",
        "\n",
        "d1.update({2:10000,200: 20000})\n",
        "print(d1)\n",
        "\n"
      ],
      "metadata": {
        "colab": {
          "base_uri": "https://localhost:8080/"
        },
        "id": "PETstmJclUjZ",
        "outputId": "06edbd7d-5ad2-432c-dbdc-1757f1485c00"
      },
      "execution_count": null,
      "outputs": [
        {
          "output_type": "stream",
          "name": "stdout",
          "text": [
            "{2: 100, 4: 200, 6: 300, 8: 400, 10: 1000, 20: 2000}\n",
            "{2: 10000, 4: 200, 6: 300, 8: 400, 10: 1000, 20: 2000, 200: 20000}\n"
          ]
        }
      ]
    },
    {
      "cell_type": "code",
      "source": [],
      "metadata": {
        "id": "f_nS4UUfmb_a"
      },
      "execution_count": null,
      "outputs": []
    },
    {
      "cell_type": "code",
      "source": [
        "d1 = {2:500, 4:200, 6:300, 8:400, 2:100}\n",
        "\n",
        "print(d1)"
      ],
      "metadata": {
        "colab": {
          "base_uri": "https://localhost:8080/"
        },
        "id": "BzDEClJrmYMj",
        "outputId": "b79998a6-e733-4066-b93a-cb625df00c91"
      },
      "execution_count": null,
      "outputs": [
        {
          "output_type": "stream",
          "name": "stdout",
          "text": [
            "{2: 100, 4: 200, 6: 300, 8: 400}\n"
          ]
        }
      ]
    },
    {
      "cell_type": "code",
      "source": [
        "# clear()\n",
        "d1 = {2:500, 4:200, 6:300, 8:400, 2:100}\n",
        "print(d1)\n",
        "d1.clear()\n",
        "print(d1)\n",
        "\n"
      ],
      "metadata": {
        "colab": {
          "base_uri": "https://localhost:8080/"
        },
        "id": "9zbEqMgEm4aX",
        "outputId": "48c0d7e4-dc3d-49e0-81b8-0ffc9749378d"
      },
      "execution_count": null,
      "outputs": [
        {
          "output_type": "stream",
          "name": "stdout",
          "text": [
            "{2: 100, 4: 200, 6: 300, 8: 400}\n",
            "{}\n"
          ]
        }
      ]
    },
    {
      "cell_type": "code",
      "source": [
        "# shallow copy\n",
        "\n",
        "d1 = {2:[1,2,3], 4:[2,3,4], 6:[2,3,4], 8:[2,4,5], 2:[4,5,6]}\n",
        "d2 = d1\n",
        "print(d1)\n",
        "print(d2)\n",
        "\n",
        "print(id(d1))\n",
        "print(id(d2))\n"
      ],
      "metadata": {
        "colab": {
          "base_uri": "https://localhost:8080/"
        },
        "id": "uID4LVpInhGY",
        "outputId": "9d1391e6-a20e-4ec8-f638-635b6a9d9f1f"
      },
      "execution_count": null,
      "outputs": [
        {
          "output_type": "stream",
          "name": "stdout",
          "text": [
            "{2: [4, 5, 6], 4: [2, 3, 4], 6: [2, 3, 4], 8: [2, 4, 5]}\n",
            "{2: [4, 5, 6], 4: [2, 3, 4], 6: [2, 3, 4], 8: [2, 4, 5]}\n",
            "133985909649920\n",
            "133985909649920\n"
          ]
        }
      ]
    },
    {
      "cell_type": "code",
      "source": [
        "# deep copy\n",
        "import copy\n",
        "\n",
        "d1 = {2:[1,2,3], 4:[2,3,4], 6:[2,3,4], 8:[2,4,5], 2:[4,5,6]}\n",
        "d2 = copy.deepcopy(d1)\n",
        "\n",
        "print(d1)\n",
        "print(d2)\n",
        "\n",
        "print(id(d1))\n",
        "print(id(d2))"
      ],
      "metadata": {
        "colab": {
          "base_uri": "https://localhost:8080/"
        },
        "id": "Dro_i9Q8pPcA",
        "outputId": "77d84c80-e7b2-4e3e-853b-c4d5344b36de"
      },
      "execution_count": null,
      "outputs": [
        {
          "output_type": "stream",
          "name": "stdout",
          "text": [
            "{2: [4, 5, 6], 4: [2, 3, 4], 6: [2, 3, 4], 8: [2, 4, 5]}\n",
            "{2: [4, 5, 6], 4: [2, 3, 4], 6: [2, 3, 4], 8: [2, 4, 5]}\n",
            "133985908701696\n",
            "133985908695360\n"
          ]
        }
      ]
    },
    {
      "cell_type": "code",
      "source": [
        "#fromkeys()\n",
        "\n",
        "keys= [1,2,3,4]\n",
        "d1 = dict.fromkeys(keys,2000)\n",
        "print(d1)\n",
        "\n"
      ],
      "metadata": {
        "colab": {
          "base_uri": "https://localhost:8080/"
        },
        "id": "8rrHO_IXpw1n",
        "outputId": "5c5b43ec-608c-4d64-f729-ba062fcf63fb"
      },
      "execution_count": null,
      "outputs": [
        {
          "output_type": "stream",
          "name": "stdout",
          "text": [
            "{1: 2000, 2: 2000, 3: 2000, 4: 2000}\n"
          ]
        }
      ]
    },
    {
      "cell_type": "code",
      "source": [
        "k=[1,2,3,4,5]\n",
        "v=[10,20,30,40,50,90]   # creat a dict zip\n",
        "d1 = dict(zip(k,v))\n",
        "\n",
        "print(d1)\n"
      ],
      "metadata": {
        "colab": {
          "base_uri": "https://localhost:8080/"
        },
        "id": "Sk-8mQqvqG9h",
        "outputId": "631c12e4-623d-43c7-92bb-02feef068d44"
      },
      "execution_count": null,
      "outputs": [
        {
          "output_type": "stream",
          "name": "stdout",
          "text": [
            "{1: 10, 2: 20, 3: 30, 4: 40, 5: 50}\n"
          ]
        }
      ]
    },
    {
      "cell_type": "code",
      "source": [
        "# Assignment\n",
        "s = \" I live in blr, blr is a garden city and beautiful city\"   # input\n",
        "\n",
        "\n",
        "{'I':1 , 'live':1, 'in':2, 'blr':2, 'is':1, 'a':1, 'garden':1, 'city':2} # output"
      ],
      "metadata": {
        "id": "b6l8KSwgquRe"
      },
      "execution_count": null,
      "outputs": []
    },
    {
      "cell_type": "code",
      "source": [
        "l1 = [10,20,30,40]\n",
        "\n",
        "print(l1)\n",
        "\n",
        "l2 = l1\n",
        "\n",
        "print(id(l1))\n",
        "print(id(l2))\n",
        "\n",
        "l2[1]= 200\n",
        "\n",
        "print(l1)\n",
        "print(l2)"
      ],
      "metadata": {
        "colab": {
          "base_uri": "https://localhost:8080/"
        },
        "id": "t_36NHElxsZY",
        "outputId": "f9644b40-cdc7-47e0-de4c-237b65c27a8c"
      },
      "execution_count": 2,
      "outputs": [
        {
          "output_type": "stream",
          "name": "stdout",
          "text": [
            "[10, 20, 30, 40]\n",
            "133299387695872\n",
            "133299387695872\n",
            "[10, 200, 30, 40]\n",
            "[10, 200, 30, 40]\n"
          ]
        }
      ]
    },
    {
      "cell_type": "code",
      "source": [
        "# shallow copy\n",
        "import copy\n",
        "l1 = [[1,2,3],[4,5,6],[7,8,'a']]\n",
        "\n",
        "\n",
        "\n",
        "print(\"id of l1:\",id(l1))\n",
        "print(\"id of the first ele\",id(l1[0]))\n",
        "print(\"id of the 2nd ele\",id(l1[1]))\n",
        "print(\"id of the 3rd ele\",id(l1[2]))\n",
        "\n",
        "l2 = copy.copy(l1)\n",
        "\n",
        "\n",
        "\n",
        "print(\"id of l2:\",id(l2))\n",
        "print(\"id of the first ele\",id(l2[0]))\n",
        "print(\"id of the 2nd ele\",id(l2[1]))\n",
        "print(\"id of the 3rd ele\",id(l2[2]))\n",
        "\n",
        "l1[2][2]= \"hello\"\n",
        "print(l1)\n",
        "print(l2)\n",
        "\n"
      ],
      "metadata": {
        "colab": {
          "base_uri": "https://localhost:8080/"
        },
        "id": "HdnP49gqzzgu",
        "outputId": "43f91cbd-8795-4040-80e5-f1da569daf26"
      },
      "execution_count": 5,
      "outputs": [
        {
          "output_type": "stream",
          "name": "stdout",
          "text": [
            "id of l1: 133299387988352\n",
            "id of the first ele 133299387848512\n",
            "id of the 2nd ele 133299387977728\n",
            "id of the 3rd ele 133299387855360\n",
            "id of l2: 133299387986496\n",
            "id of the first ele 133299387848512\n",
            "id of the 2nd ele 133299387977728\n",
            "id of the 3rd ele 133299387855360\n",
            "[[1, 2, 3], [4, 5, 6], [7, 8, 'hello'], 34]\n",
            "[[1, 2, 3], [4, 5, 6], [7, 8, 'hello'], 34]\n"
          ]
        }
      ]
    },
    {
      "cell_type": "code",
      "source": [
        "import copy\n",
        "l1 = [[1,2,3],[3.4,5.4],[6,'a'],'NTT']\n",
        "l3 = copy.copy(l1)\n",
        "l1[3] = [10,20]\n",
        "\n",
        "print(l1)\n",
        "\n",
        "print(l3)\n",
        "\n",
        "print(id(l1))\n",
        "\n",
        "print(id(l3))"
      ],
      "metadata": {
        "colab": {
          "base_uri": "https://localhost:8080/"
        },
        "id": "5j12o7722SBi",
        "outputId": "04090126-d989-4bf4-dc31-1585c7de36c4"
      },
      "execution_count": 7,
      "outputs": [
        {
          "output_type": "stream",
          "name": "stdout",
          "text": [
            "[[1, 2, 3], [3.4, 5.4], [6, 'a'], [10, 20]]\n",
            "[[1, 2, 3], [3.4, 5.4], [6, 'a'], 'NTT']\n",
            "133299388030912\n",
            "133299387981696\n"
          ]
        }
      ]
    },
    {
      "cell_type": "code",
      "source": [
        "# deep copy\n",
        "import copy\n",
        "l1 = [[1,2,3],[4,5,6],[7,8,'a']]\n",
        "\n",
        "\n",
        "\n",
        "print(\"id of l1:\",id(l1))\n",
        "print(\"id of the first ele\",id(l1[0]))\n",
        "print(\"id of the 2nd ele\",id(l1[1]))\n",
        "print(\"id of the 3rd ele\",id(l1[2]))\n",
        "\n",
        "l2 = copy.deepcopy(l1)\n",
        "\n",
        "\n",
        "\n",
        "print(\"id of l2:\",id(l2))\n",
        "print(\"id of the first ele\",id(l2[0]))\n",
        "print(\"id of the 2nd ele\",id(l2[1]))\n",
        "print(\"id of the 3rd ele\",id(l2[2]))\n",
        "\n",
        "l1[2][2]= \"hello\"\n",
        "print(l1)\n",
        "print(l2)\n",
        "\n"
      ],
      "metadata": {
        "colab": {
          "base_uri": "https://localhost:8080/"
        },
        "id": "Blv3HUoy25N4",
        "outputId": "720821f7-e913-4f7f-ba82-57dab9f6dc98"
      },
      "execution_count": 8,
      "outputs": [
        {
          "output_type": "stream",
          "name": "stdout",
          "text": [
            "id of l1: 133300092250816\n",
            "id of the first ele 133299387671808\n",
            "id of the 2nd ele 133299387848064\n",
            "id of the 3rd ele 133299387667136\n",
            "id of l2: 133299387976640\n",
            "id of the first ele 133299387407424\n",
            "id of the 2nd ele 133299618269056\n",
            "id of the 3rd ele 133300092241856\n",
            "[[1, 2, 3], [4, 5, 6], [7, 8, 'hello']]\n",
            "[[1, 2, 3], [4, 5, 6], [7, 8, 'a']]\n"
          ]
        }
      ]
    },
    {
      "cell_type": "code",
      "source": [
        "#set\n",
        "\n",
        "s1 = {10,\"hello\",3.1,\"BLR\", \"NTT\",3+4j,40,50,60}\n",
        "\n",
        "print(s1)\n",
        "print(type(s1))"
      ],
      "metadata": {
        "colab": {
          "base_uri": "https://localhost:8080/"
        },
        "id": "n_K2jPf04Aig",
        "outputId": "53f3f56a-bb37-4c1b-9b83-50e0f3907cec"
      },
      "execution_count": 11,
      "outputs": [
        {
          "output_type": "stream",
          "name": "stdout",
          "text": [
            "{3.1, 'NTT', 40, 10, 'BLR', (3+4j), 50, 'hello', 60}\n",
            "<class 'set'>\n"
          ]
        }
      ]
    },
    {
      "cell_type": "code",
      "source": [
        "s2 = {10,10,20,30,30,30}\n",
        "print(s2)"
      ],
      "metadata": {
        "colab": {
          "base_uri": "https://localhost:8080/"
        },
        "id": "MSA2dkbA5vo3",
        "outputId": "a563bb4e-fb47-448c-a948-ac5c0209e32a"
      },
      "execution_count": 12,
      "outputs": [
        {
          "output_type": "stream",
          "name": "stdout",
          "text": [
            "{10, 20, 30}\n"
          ]
        }
      ]
    },
    {
      "cell_type": "code",
      "source": [
        "s2 = {10,10,20,30,30,30,(1,3,4),\"NTT\"}\n",
        "print(s2)"
      ],
      "metadata": {
        "colab": {
          "base_uri": "https://localhost:8080/"
        },
        "id": "CeWg3Bg8570R",
        "outputId": "b44eceef-8081-4906-c290-3ffe01d5a634"
      },
      "execution_count": 16,
      "outputs": [
        {
          "output_type": "stream",
          "name": "stdout",
          "text": [
            "{20, 'NTT', 30, 10, (1, 3, 4)}\n"
          ]
        }
      ]
    },
    {
      "cell_type": "code",
      "source": [
        "s3 = set(\"NTT Data\")\n",
        "print(s3)"
      ],
      "metadata": {
        "colab": {
          "base_uri": "https://localhost:8080/"
        },
        "id": "VnHGgM4Z6S9Y",
        "outputId": "b3b989ce-578d-431b-8fc5-b1468017bc95"
      },
      "execution_count": 17,
      "outputs": [
        {
          "output_type": "stream",
          "name": "stdout",
          "text": [
            "{'a', 'D', 't', ' ', 'N', 'T'}\n"
          ]
        }
      ]
    },
    {
      "cell_type": "code",
      "source": [
        "s3 = set([\"aaa\",\"bbb\"])\n",
        "print(s3)"
      ],
      "metadata": {
        "colab": {
          "base_uri": "https://localhost:8080/"
        },
        "id": "8sD-KiWf6jNP",
        "outputId": "c619bc71-f7f1-4ca7-d480-f1300704db9f"
      },
      "execution_count": 19,
      "outputs": [
        {
          "output_type": "stream",
          "name": "stdout",
          "text": [
            "{'bbb', 'aaa'}\n"
          ]
        }
      ]
    },
    {
      "cell_type": "code",
      "source": [
        "s5 = {}\n",
        "print(s5)\n",
        "print(type(s5))"
      ],
      "metadata": {
        "colab": {
          "base_uri": "https://localhost:8080/"
        },
        "id": "6RxCw6077RrJ",
        "outputId": "885a2008-8528-4ba3-9969-fb744c21d4a0"
      },
      "execution_count": 20,
      "outputs": [
        {
          "output_type": "stream",
          "name": "stdout",
          "text": [
            "{}\n",
            "<class 'dict'>\n"
          ]
        }
      ]
    },
    {
      "cell_type": "code",
      "source": [
        "s6= set()\n",
        "print(s6)\n",
        "print(type(s6))"
      ],
      "metadata": {
        "colab": {
          "base_uri": "https://localhost:8080/"
        },
        "id": "a5qc-7My7ctq",
        "outputId": "d251eb6e-94d3-4d8f-f476-133129cd13cd"
      },
      "execution_count": 21,
      "outputs": [
        {
          "output_type": "stream",
          "name": "stdout",
          "text": [
            "set()\n",
            "<class 'set'>\n"
          ]
        }
      ]
    },
    {
      "cell_type": "code",
      "source": [
        "# add method\n",
        "s1 = {10,200,\"Ntt\",34.5}\n",
        "s1.add(\"KKK\")   # single ele\n",
        "print(s1)\n",
        "\n",
        "s1.update([10,20,\"Blr\"]) # multiple elements\n",
        "print(s1)\n",
        "\n",
        "#s1.update([10,20,\"Blr\",[4,5]]) # multiple elements\n",
        "#print(s1)\n",
        "\n",
        "s1.remove(\"Blr\") # remove methods throws error if the arg doesnt exist\n",
        "print(s1)\n",
        "\n",
        "s1.discard(\"KKKK\") # discard methods will not throws error if the arg doesnt exist\n",
        "print(s1)\n",
        "\n",
        "\n",
        "ele = s1.pop()\n",
        "print(ele)\n",
        "print(s1)\n",
        "\n",
        "s1.clear()\n",
        "print(s1)"
      ],
      "metadata": {
        "colab": {
          "base_uri": "https://localhost:8080/"
        },
        "id": "lw86rTa_8Lel",
        "outputId": "f5c01772-d911-43c7-a03a-66828468f521"
      },
      "execution_count": 31,
      "outputs": [
        {
          "output_type": "stream",
          "name": "stdout",
          "text": [
            "{34.5, 200, 10, 'Ntt', 'KKK'}\n",
            "{'Blr', 34.5, 200, 10, 'Ntt', 'KKK', 20}\n",
            "{34.5, 200, 10, 'Ntt', 'KKK', 20}\n",
            "{34.5, 200, 10, 'Ntt', 'KKK', 20}\n",
            "34.5\n",
            "{200, 10, 'Ntt', 'KKK', 20}\n",
            "set()\n"
          ]
        }
      ]
    },
    {
      "cell_type": "code",
      "source": [
        "# set union\n",
        "s1 = {1,2,3,4,5}\n",
        "s2= {4,5,6,7,8}\n",
        "print(s1|s2)\n",
        "\n",
        "print(s1.union(s2))"
      ],
      "metadata": {
        "colab": {
          "base_uri": "https://localhost:8080/"
        },
        "id": "qvXE6RwF-hjT",
        "outputId": "8b85ec3c-7528-43d1-c3bd-009223a0ac47"
      },
      "execution_count": 33,
      "outputs": [
        {
          "output_type": "stream",
          "name": "stdout",
          "text": [
            "{1, 2, 3, 4, 5, 6, 7, 8}\n",
            "{1, 2, 3, 4, 5, 6, 7, 8}\n"
          ]
        }
      ]
    },
    {
      "cell_type": "code",
      "source": [
        "# intersection\n",
        "s1 = {1,2,3,4,5}\n",
        "s2= {4,5,6,7,8}\n",
        "\n",
        "print(s1&s2)\n",
        "\n",
        "print(s1.intersection(s2))\n"
      ],
      "metadata": {
        "colab": {
          "base_uri": "https://localhost:8080/"
        },
        "id": "B0wfiV2R_CUT",
        "outputId": "0d565ba6-ec69-4253-9e55-c099061b35d7"
      },
      "execution_count": 34,
      "outputs": [
        {
          "output_type": "stream",
          "name": "stdout",
          "text": [
            "{4, 5}\n",
            "{4, 5}\n"
          ]
        }
      ]
    },
    {
      "cell_type": "code",
      "source": [
        "# difference\n",
        "\n",
        "s1 = {1,2,3,4,5}\n",
        "s2= {4,5,6,7,8}\n",
        "\n",
        "print(s1-s2)\n",
        "\n",
        "print(s1.difference(s2))"
      ],
      "metadata": {
        "colab": {
          "base_uri": "https://localhost:8080/"
        },
        "id": "kSe4LRhk_VtE",
        "outputId": "7fd3a96f-6225-4225-f798-57396e73ce6f"
      },
      "execution_count": 35,
      "outputs": [
        {
          "output_type": "stream",
          "name": "stdout",
          "text": [
            "{1, 2, 3}\n",
            "{1, 2, 3}\n"
          ]
        }
      ]
    },
    {
      "cell_type": "code",
      "source": [
        "# frozen set\n",
        "s= {1,2,3,4,5}\n",
        "fs = frozenset(s)\n",
        "print(fs)\n",
        "print(type(fs))\n"
      ],
      "metadata": {
        "colab": {
          "base_uri": "https://localhost:8080/",
          "height": 220
        },
        "id": "KfGqyMyEADrY",
        "outputId": "e2c75788-110e-4108-ca49-b39a8ad24653"
      },
      "execution_count": 38,
      "outputs": [
        {
          "output_type": "stream",
          "name": "stdout",
          "text": [
            "frozenset({1, 2, 3, 4, 5})\n",
            "<class 'frozenset'>\n"
          ]
        },
        {
          "output_type": "error",
          "ename": "AttributeError",
          "evalue": "'frozenset' object has no attribute 'add'",
          "traceback": [
            "\u001b[0;31m---------------------------------------------------------------------------\u001b[0m",
            "\u001b[0;31mAttributeError\u001b[0m                            Traceback (most recent call last)",
            "\u001b[0;32m<ipython-input-38-e9fe9f066a34>\u001b[0m in \u001b[0;36m<cell line: 0>\u001b[0;34m()\u001b[0m\n\u001b[1;32m      4\u001b[0m \u001b[0mprint\u001b[0m\u001b[0;34m(\u001b[0m\u001b[0mfs\u001b[0m\u001b[0;34m)\u001b[0m\u001b[0;34m\u001b[0m\u001b[0;34m\u001b[0m\u001b[0m\n\u001b[1;32m      5\u001b[0m \u001b[0mprint\u001b[0m\u001b[0;34m(\u001b[0m\u001b[0mtype\u001b[0m\u001b[0;34m(\u001b[0m\u001b[0mfs\u001b[0m\u001b[0;34m)\u001b[0m\u001b[0;34m)\u001b[0m\u001b[0;34m\u001b[0m\u001b[0;34m\u001b[0m\u001b[0m\n\u001b[0;32m----> 6\u001b[0;31m \u001b[0mfs\u001b[0m\u001b[0;34m.\u001b[0m\u001b[0madd\u001b[0m\u001b[0;34m(\u001b[0m\u001b[0;36m20\u001b[0m\u001b[0;34m)\u001b[0m\u001b[0;34m\u001b[0m\u001b[0;34m\u001b[0m\u001b[0m\n\u001b[0m",
            "\u001b[0;31mAttributeError\u001b[0m: 'frozenset' object has no attribute 'add'"
          ]
        }
      ]
    },
    {
      "cell_type": "code",
      "source": [
        "v= [10,20,30]\n",
        "v.extend([100,[10,20]])\n",
        "print(v)"
      ],
      "metadata": {
        "colab": {
          "base_uri": "https://localhost:8080/"
        },
        "id": "BM4WFLlIBQNY",
        "outputId": "a5f5c235-6bbb-4a95-ee7b-5f432921b487"
      },
      "execution_count": 40,
      "outputs": [
        {
          "output_type": "stream",
          "name": "stdout",
          "text": [
            "[10, 20, 30, 100, [10, 20]]\n"
          ]
        }
      ]
    }
  ]
}